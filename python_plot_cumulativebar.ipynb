{
 "cells": [
  {
   "cell_type": "markdown",
   "metadata": {},
   "source": [
    "# 積み上げ棒グラフを作成する"
   ]
  },
  {
   "cell_type": "code",
   "execution_count": 1,
   "metadata": {},
   "outputs": [
    {
     "data": {
      "image/png": "[encoded data removed]",
      "text/plain": [
       "<Figure size 432x288 with 1 Axes>"
      ]
     },
     "metadata": {
      "needs_background": "light"
     },
     "output_type": "display_data"
    }
   ],
   "source": [
    "#コード例\n",
    "\n",
    "%matplotlib inline\n",
    "from matplotlib import pyplot as plt\n",
    "import numpy as np\n",
    "\n",
    "#数値は適当\n",
    "bar1 = [100, 50, 200] #積み上げ棒グラフの一段目\n",
    "bar2 = [100, 200, 50] #積み上げ棒グラフの二段目\n",
    "bar3 = [100, 250, 100] #積み上げ棒グラフの三段目\n",
    "\n",
    "bar3_st = np.add(bar1, bar2).tolist() #bar3を積み上げる位置を指定しておく\n",
    "sample_labels = ['SampleA', 'SampleB', 'SampleC'] #データのラベルを指定\n",
    "x = [0, 1, 2] #棒グラフを表示させるx軸座標を決めておく\n",
    "barwidth = 0.7 #棒グラフの幅を指定する。棒グラフのx軸座標を考慮して決める\n",
    "\n",
    "plt.figure() #Figureオブジェクトを作成\n",
    "plt.bar(x, bar1, width=barwidth, label='class1')\n",
    "plt.bar(x, bar2, bottom=bar1, width=barwidth, label='class2') #bottomで2段目のデータを積み上げる位置を指定する\n",
    "plt.bar(x, bar3, bottom=bar3_st, width=barwidth, label='class3') #bottomで3段目のデータを積み上げる位置を指定する\n",
    "plt.xticks(x, sample_labels, fontweight='bold') #x軸のラベルを指定する\n",
    "\n",
    "#データラベルを棒グラフの中に追加したい場合は以下を追加する\n",
    "ax = plt.gca() #gca()現在の軸情報を取得(get current axis)\n",
    "handles, labels = ax.get_legend_handles_labels() #handles 線やマーカーを含んだオブジェクト labels 凡例に表示されるラベル\n",
    "plt.legend(handles[::-1], labels[::-1], loc='upper left', bbox_to_anchor=(1,1)) #handles[::-1], labels[::-1]　凡例を棒グラフの順番と合わせる\n",
    "\n",
    "for i in range(len(bar1)):\n",
    "    ax.annotate(str(bar1[i]), xy=(x[i] - 0.1, (bar1[i] / 3)), color='white', fontweight='bold')\n",
    "for i in range(len(bar2)):\n",
    "    ax.annotate(str(bar2[i]), xy=(x[i] - 0.1, (bar2[i] / 3) + bar1[i]), color='white', fontweight='bold')\n",
    "for i in range(len(bar3)):\n",
    "    ax.annotate(str(bar3[i]), xy=(x[i] - 0.1, (bar3[i] / 3) + bar3_st[i]), color='white', fontweight='bold')\n",
    "\n",
    "plt.subplots_adjust(right=0.8) #凡例のために余白を広げる rightのdefaultは0.9\n",
    "plt.title('BarPlot Test')\n",
    "plt.xlabel('Sample Name')\n",
    "plt.ylabel('count')\n",
    "plt.show()\n",
    "#plt.savefig('barplot.pdf') #pdfで出力する場合\n",
    "#plt.savefig('barplot.svg',format='svg') #ベクター画像で出力する場合\n",
    "plt.close()  "
   ]
  },
  {
   "cell_type": "markdown",
   "metadata": {},
   "source": [
    "**numpy**モジュール **add( )**\n",
    "\n",
    "・配列の要素を足し算する。\n",
    "\n",
    "<br>\n",
    "\n",
    "**numpy**モジュール **tolist( )**\n",
    "\n",
    "・Numpy配列をリスト型に変換する。\n",
    "\n",
    "<br>\n",
    "\n",
    "**pyplot**モジュール **gca( )**\n",
    "\n",
    "・現在のAxesオブジェクトを取得する。\n",
    "\n",
    "<br>\n",
    "\n",
    "**get_legend_handles_labels( )**\n",
    "\n",
    "・handlerとlabelを取得する。handlerは線やマーカーを含んだオブジェクト。labelsは凡例に表示されるラベル（リスト型）。\n",
    "\n",
    "・Axesオブジェクト用\n",
    "\n",
    "<br>\n",
    "\n",
    "**annotate(s, xy)**\n",
    "\n",
    "・xyで指定した位置にsで指定した文字を出力する。\n",
    "\n",
    "・Axesオブジェクト用\n",
    "\n",
    "<br>\n",
    "\n",
    "---\n",
    "### 積み上げる段が多い場合に対応できるように、for文で処理する  "
   ]
  },
  {
   "cell_type": "code",
   "execution_count": 2,
   "metadata": {},
   "outputs": [
    {
     "data": {
      "image/png": "[encoded data removed]",
      "text/plain": [
       "<Figure size 432x288 with 1 Axes>"
      ]
     },
     "metadata": {
      "needs_background": "light"
     },
     "output_type": "display_data"
    }
   ],
   "source": [
    "#コード例\n",
    "\n",
    "%matplotlib inline\n",
    "from matplotlib import pyplot as plt\n",
    "import numpy as np\n",
    "\n",
    "#数値は適当\n",
    "bar1 = [100, 50, 200] #積み上げ棒グラフの一段目\n",
    "bar2 = [100, 200, 50] #積み上げ棒グラフの二段目\n",
    "bar3 = [100, 250, 100] #積み上げ棒グラフの三段目\n",
    "\n",
    "bar_data = [bar1, bar2, bar3]\n",
    "\n",
    "sample_labels = ['SampleA', 'SampleB', 'SampleC'] #データのラベルを指定\n",
    "group_labels = ['class1', 'class2', 'class3']\n",
    "x = [0, 1, 2] #棒グラフを表示させるx軸座標を決めておく\n",
    "barwidth = 0.7 #棒グラフの幅を指定する。棒グラフのx軸座標を考慮して決める\n",
    "\n",
    "fig, ax = plt.subplots() #FigureオブジェクトとAxesオブジェクトを作成\n",
    "\n",
    "bottom_position = np.zeros(len(bar_data)) #積み上げる位置を指定するため、積み上げる段数と同じ要素数（ここではbar_dataの要素数）の一次元配列を作成する\n",
    "\n",
    "for i in range(len(bar_data)): #一段ずつデータをaxオブジェクトに格納する\n",
    "    ax.bar(x, bar_data[i], width=barwidth, bottom=bottom_position, label=group_labels[i])  \n",
    "    for j in range(len(bar_data[i])): #annotateはx軸のポイントごとにデータを格納する必要がるので、for文を使う\n",
    "        ax.annotate(str(bar_data[i][j]), xy=(x[j] - 0.1, (bar_data[i][j] / 3) + bottom_position.tolist()[j]), color='white', fontweight='bold')\n",
    "    bottom_position = np.add(bar_data[i], bottom_position)\n",
    "\n",
    "ax.set_xticks(x)\n",
    "ax.set_xticklabels(sample_labels, fontweight='bold') #x軸のラベルを指定する\n",
    "handles, labels = ax.get_legend_handles_labels() #handles 線やマーカーを含んだオブジェクト labels 凡例に表示されるラベル\n",
    "ax.legend(handles[::-1], labels[::-1], loc='upper left', bbox_to_anchor=(1,1)) #handles[::-1], labels[::-1]　凡例を棒グラフの順番と合わせる\n",
    "\n",
    "fig.subplots_adjust(right=0.8) #凡例のために余白を広げる rightのdefaultは0.9\n",
    "ax.set_title('BarPlot Test')\n",
    "ax.set_xlabel('Sample Name')\n",
    "ax.set_ylabel('Count')\n",
    "plt.show()\n",
    "#fig.savefig('barplot.pdf')\n",
    "#fig.savefig('barplot.svg',format='svg')\n",
    "plt.close()"
   ]
  },
  {
   "cell_type": "markdown",
   "metadata": {},
   "source": [
    "**numpy**モジュール **zeros(shape)**\n",
    "\n",
    "・要素0の配列を生成する。第一引数に配列のshapeを指定できる。"
   ]
  }
 ],
 "metadata": {
  "kernelspec": {
   "display_name": "Python 3",
   "language": "python",
   "name": "python3"
  },
  "language_info": {
   "codemirror_mode": {
    "name": "ipython",
    "version": 3
   },
   "file_extension": ".py",
   "mimetype": "text/x-python",
   "name": "python",
   "nbconvert_exporter": "python",
   "pygments_lexer": "ipython3",
   "version": "3.7.7"
  }
 },
 "nbformat": 4,
 "nbformat_minor": 4
}
