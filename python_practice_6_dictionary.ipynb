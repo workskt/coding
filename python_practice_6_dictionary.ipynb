{
 "cells": [
  {
   "cell_type": "markdown",
   "metadata": {},
   "source": [
    "# 6. 辞書\n",
    "\n",
    "---\n",
    "\n",
    "## 6.1 辞書について\n",
    "\n",
    "<br>\n",
    "\n",
    "ある複数の要素を紐づけて、その組み合わせを格納した変数を**辞書**と言います。  \n",
    "辞書は**キー**と**値**から構成されます。  \n",
    "キーと値の組み合わせを辞書に代入した後、キーを指定すると、それに対応する値を返してくれます。  \n",
    "以下のようにして辞書にキーと値を代入します。  \n",
    "```python\n",
    "辞書の作成\n",
    "変数名 = {キー1:値1, キー2:値2,　キー3:値3}\n",
    "```\n",
    "\n",
    "キーと値の組み合わせはコロン`:`で繋ぎ、それぞれの組み合わせはカンマ`,`で区切ります。  \n",
    "この組み合わせは何個でも代入することができます。  \n",
    "\n",
    "多くの遺伝子には複数の転写産物が存在し、その転写産物にはIDがつけられています。  \n",
    "キーをGene Symbol、値にrefSeq IDを紐づけた辞書を例として作成してみます。  "
   ]
  },
  {
   "cell_type": "code",
   "execution_count": 1,
   "metadata": {},
   "outputs": [],
   "source": [
    "genes_dict = {'TP53': 'NM_000546', 'EGFR': 'NM_001346897', 'MYC': 'NM_001354870', 'CDKN1A': 'NM_000389'}\n",
    "print(genes_dict)"
   ]
  },
  {
   "cell_type": "markdown",
   "metadata": {},
   "source": [
    "作成した辞書型の変数`genes_dict`を`print()`で出力すると、辞書の中身が表示されます。\n",
    "> <注>これらの遺伝子の転写産物は上記以外にも存在しますが、ここでは例として一つだけ使用しています。"
   ]
  },
  {
   "cell_type": "markdown",
   "metadata": {},
   "source": [
    "---\n",
    "\n",
    "## 6.2 辞書からキー、値を取り出す\n",
    "\n",
    "<br>\n",
    "\n",
    "キーを指定して、そのキーに紐づけられた要素を取得することができます。  \n",
    "辞書の変数に`[キーの名前]`をつけます。\n",
    "\n",
    "```\n",
    "値の取り出し方\n",
    "変数名[キーの名前]\n",
    "```\n",
    "\n",
    "例えば、辞書型変数`genes_dict`から、キー`EGFR`に対応する値を取得するには以下のようにします。"
   ]
  },
  {
   "cell_type": "code",
   "execution_count": 2,
   "metadata": {},
   "outputs": [
    {
     "name": "stdout",
     "output_type": "stream",
     "text": [
      "NM_001346897\n"
     ]
    }
   ],
   "source": [
    "value = genes_dict['EGFR']\n",
    "print(value)"
   ]
  },
  {
   "cell_type": "markdown",
   "metadata": {},
   "source": [
    "キーに`'EGFR'`を指定することで、EGFRの転写産物ID`NM_001346897`を取得できました。\n",
    "<br>"
   ]
  },
  {
   "cell_type": "markdown",
   "metadata": {},
   "source": [
    "<br>  \n",
    "辞書を使っていると、ある一つのキーや値だけでなく、全てのキーや値を取り出して使いたいと思うことがしばしばあります。\n",
    "辞書からすべてのキーを取り出したいときには、辞書型のメソッド（辞書型のデータを処理する関数)である`keys( )`を使用します。\n",
    "\n",
    "```python\n",
    "keys()メソッドの使い方\n",
    "辞書型変数名.keys()\n",
    "```"
   ]
  },
  {
   "cell_type": "code",
   "execution_count": 3,
   "metadata": {},
   "outputs": [
    {
     "name": "stdout",
     "output_type": "stream",
     "text": [
      "TP53\n",
      "EGFR\n",
      "MYC\n",
      "CDKN1A\n"
     ]
    }
   ],
   "source": [
    "for key in genes_dict.keys():\n",
    "    print(key)"
   ]
  },
  {
   "cell_type": "markdown",
   "metadata": {},
   "source": [
    "for文を使い、`keys()`で辞書`genes_dict`のキーをひとつずつ取り出し、`print()`で出力しました。"
   ]
  },
  {
   "cell_type": "markdown",
   "metadata": {},
   "source": [
    "<br>\n",
    "\n",
    "辞書からすべての要素を取り出したいときには、`values()`メソッドを使用します。"
   ]
  },
  {
   "cell_type": "code",
   "execution_count": 4,
   "metadata": {},
   "outputs": [
    {
     "name": "stdout",
     "output_type": "stream",
     "text": [
      "NM_000546\n",
      "NM_001346897\n",
      "NM_001354870\n",
      "NM_000389\n"
     ]
    }
   ],
   "source": [
    "for value in genes_dict.values():\n",
    "    print(value)"
   ]
  },
  {
   "cell_type": "markdown",
   "metadata": {},
   "source": [
    "for文を使い、`values()`で辞書`genes_dict`の要素をひとつずつ取り出し、`print()`で出力しました。"
   ]
  },
  {
   "cell_type": "markdown",
   "metadata": {},
   "source": [
    "---\n",
    "\n",
    "## 6.3 辞書からキーや要素を取り出してリスト形式にする\n",
    "\n",
    "<br>\n",
    "\n",
    "`keys()`や`values()`で返されるデータは`dict_keys`という形式のものです。"
   ]
  },
  {
   "cell_type": "code",
   "execution_count": 5,
   "metadata": {
    "scrolled": true
   },
   "outputs": [
    {
     "name": "stdout",
     "output_type": "stream",
     "text": [
      "キー dict_keys(['TP53', 'EGFR', 'MYC', 'CDKN1A'])\n",
      "型 <class 'dict_keys'>\n"
     ]
    }
   ],
   "source": [
    "c = genes_dict.keys()\n",
    "print('キー', c)\n",
    "print('型', type(c))"
   ]
  },
  {
   "cell_type": "markdown",
   "metadata": {},
   "source": [
    "`type()`関数を使うと、変数がどのような型であるかを調べることができます。  \n",
    "`keys()`で返されるデータは`dict_keys`という型であると教えてくれます。  \n",
    "<br>\n",
    "\n",
    "もしキーの情報をリストに変更したければ、`list()`関数を使用します。  "
   ]
  },
  {
   "cell_type": "code",
   "execution_count": 6,
   "metadata": {
    "scrolled": true
   },
   "outputs": [
    {
     "name": "stdout",
     "output_type": "stream",
     "text": [
      "['TP53', 'EGFR', 'MYC', 'CDKN1A']\n",
      "<class 'list'>\n"
     ]
    }
   ],
   "source": [
    "d = list(c)\n",
    "print(d)\n",
    "print(type(d))"
   ]
  }
 ],
 "metadata": {
  "kernelspec": {
   "display_name": "Python 3",
   "language": "python",
   "name": "python3"
  },
  "language_info": {
   "codemirror_mode": {
    "name": "ipython",
    "version": 3
   },
   "file_extension": ".py",
   "mimetype": "text/x-python",
   "name": "python",
   "nbconvert_exporter": "python",
   "pygments_lexer": "ipython3",
   "version": "3.8.5"
  }
 },
 "nbformat": 4,
 "nbformat_minor": 4
}
