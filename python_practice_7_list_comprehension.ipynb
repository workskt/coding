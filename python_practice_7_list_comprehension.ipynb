{
 "cells": [
  {
   "cell_type": "markdown",
   "metadata": {},
   "source": [
    "# 7. リスト内包表記\n",
    "\n",
    "---\n",
    "\n",
    "**for文**などの繰り返し処理を行う場合に、リスト内包表記というものがあります。  \n",
    "以下のように書きます。  \n",
    "\n",
    "```python\n",
    "[処理式 for　変数 in イテラブル ]\n",
    "```\n",
    "\n",
    "イテラブルとは繰り返し処理が可能なオブジェクトのことです。  \n",
    "リストや辞書、文字列などが該当します。  \n",
    "\n",
    "通常の**for文**よりも短く書ける、処理時間が速いというメリットがありますので、  \n",
    "簡単な処理であればリスト内表記を使うようにしましょう。\n"
   ]
  },
  {
   "cell_type": "code",
   "execution_count": 1,
   "metadata": {},
   "outputs": [
    {
     "name": "stdout",
     "output_type": "stream",
     "text": [
      "[1, 5, 10, 15, 20]\n"
     ]
    }
   ],
   "source": [
    "a = [1, 5, 10, 15, 20]\n",
    "b = [v for v in a]\n",
    "print(b)"
   ]
  },
  {
   "cell_type": "markdown",
   "metadata": {},
   "source": [
    "`for v in a`の部分は通常の**for文**と同じです（最後のコロンがない点を除き）。  \n",
    "一つ目の`v`は、**for文**でリスト`a`から繰り返し取り出される二つ目の`v`を受け取ります。  \n",
    "処理式の部分は`v`だけですので、取り出された二つ目の`v`をそのまま一つ目の`v`が受け取り、リスト`b`に渡しています。  \n",
    "\n",
    "処理式の部分を以下のように変えてみましょう。  "
   ]
  },
  {
   "cell_type": "code",
   "execution_count": 2,
   "metadata": {
    "scrolled": true
   },
   "outputs": [
    {
     "name": "stdout",
     "output_type": "stream",
     "text": [
      "[2, 10, 20, 30, 40]\n"
     ]
    }
   ],
   "source": [
    "a = [1, 5, 10, 15, 20]\n",
    "b = [v * 2 for v in a]\n",
    "print(b)"
   ]
  },
  {
   "cell_type": "markdown",
   "metadata": {},
   "source": [
    "リスト`a`から取り出した要素を、2倍にしてリスト`b`に渡しました。"
   ]
  },
  {
   "cell_type": "markdown",
   "metadata": {},
   "source": [
    "**for文**部分の後ろに**if文**を持ってくることもできます。  \n",
    "これにより、イテラブルの中で条件に該当するものだけ取り出す処理を、1行で書くことができます。  "
   ]
  },
  {
   "cell_type": "code",
   "execution_count": 3,
   "metadata": {},
   "outputs": [
    {
     "name": "stdout",
     "output_type": "stream",
     "text": [
      "[10, 20]\n"
     ]
    }
   ],
   "source": [
    "a = [1, 5, 10, 15, 20]\n",
    "b = [v for v in a if v % 2 == 0]\n",
    "print(b)"
   ]
  },
  {
   "cell_type": "markdown",
   "metadata": {},
   "source": [
    "`%`は指定した数値で割った余りを返す演算子です。  \n",
    "`if v % 2 == 0`は、`v`を`2`で割った余りが`0`になる場合だけ、`v`の値を返すことを意味します。  \n",
    "実際、リスト`b`には偶数の数値だけ渡されました。  "
   ]
  },
  {
   "cell_type": "code",
   "execution_count": 4,
   "metadata": {
    "scrolled": true
   },
   "outputs": [
    {
     "name": "stdout",
     "output_type": "stream",
     "text": [
      "['o', 'o']\n"
     ]
    }
   ],
   "source": [
    "a = 'tumor protein p53'\n",
    "b = [v for v in a if v == 'o']\n",
    "print(b)"
   ]
  }
 ],
 "metadata": {
  "kernelspec": {
   "display_name": "Python 3",
   "language": "python",
   "name": "python3"
  },
  "language_info": {
   "codemirror_mode": {
    "name": "ipython",
    "version": 3
   },
   "file_extension": ".py",
   "mimetype": "text/x-python",
   "name": "python",
   "nbconvert_exporter": "python",
   "pygments_lexer": "ipython3",
   "version": "3.8.5"
  }
 },
 "nbformat": 4,
 "nbformat_minor": 4
}
