{
 "cells": [
  {
   "cell_type": "markdown",
   "metadata": {},
   "source": [
    "# 2. 文字列\n",
    "\n",
    "## 2.1 変数に文字列を代入する\n",
    "\n",
    "\n",
    "変数に代入した文字列は、一文字取り出したり、逆順にしたりと、いろんな処理を行うことができます。  \n",
    "DNA配列を扱う際に便利であることは容易に想像できると思います。\n",
    "\n",
    "\n",
    "例として、変数`a`に、`tumor protein p53`という文字列を代入してみます。"
   ]
  },
  {
   "cell_type": "code",
   "execution_count": 1,
   "metadata": {},
   "outputs": [
    {
     "name": "stdout",
     "output_type": "stream",
     "text": [
      "tumor protein p53\n"
     ]
    }
   ],
   "source": [
    "a = 'tumor protein p53'\n",
    "print(a)"
   ]
  },
  {
   "cell_type": "markdown",
   "metadata": {},
   "source": [
    "## 2.2 特定の文字を取り出す\n",
    "\n",
    "変数の後ろに`[ ]`をつけて、その中に数字を入れると、その数字の順番の文字を取り出すことができます。  \n",
    "この数値は**添字**や**インデックス**と呼ばれます。  \n",
    "**この順番は0から始まる**ので注意してください。  \n",
    "最初の文字を取り出したければ、0を入力することになります。"
   ]
  },
  {
   "cell_type": "code",
   "execution_count": 2,
   "metadata": {},
   "outputs": [
    {
     "name": "stdout",
     "output_type": "stream",
     "text": [
      "t\n"
     ]
    }
   ],
   "source": [
    "b = a[0]\n",
    "print(b)"
   ]
  },
  {
   "cell_type": "markdown",
   "metadata": {},
   "source": [
    "インデックスに`0`を指定したので、先頭の`t`が表示されます。"
   ]
  },
  {
   "cell_type": "code",
   "execution_count": 3,
   "metadata": {},
   "outputs": [
    {
     "name": "stdout",
     "output_type": "stream",
     "text": [
      "r\n"
     ]
    }
   ],
   "source": [
    "c = a[4]\n",
    "print(c)"
   ]
  },
  {
   "cell_type": "markdown",
   "metadata": {},
   "source": [
    "インデックスに`4`を指定したので、５文字目の`r`が表示されます。\n",
    "\n",
    "<br>\n",
    "\n",
    "**マイナスの数値**を入力すると、後ろから順番に文字を取り出せます。  \n",
    "−1は最後から1番目の文字、−2は最後から2番目の文字、といった具合です。"
   ]
  },
  {
   "cell_type": "code",
   "execution_count": 4,
   "metadata": {},
   "outputs": [
    {
     "name": "stdout",
     "output_type": "stream",
     "text": [
      "3\n"
     ]
    }
   ],
   "source": [
    "d = a[-1]\n",
    "print(d)"
   ]
  },
  {
   "cell_type": "markdown",
   "metadata": {},
   "source": [
    "インデックスに`-1`を指定したので、最後の文字の`3`が表示されます。"
   ]
  },
  {
   "cell_type": "code",
   "execution_count": 5,
   "metadata": {},
   "outputs": [
    {
     "name": "stdout",
     "output_type": "stream",
     "text": [
      "p\n"
     ]
    }
   ],
   "source": [
    "e = a[-3]\n",
    "print(e)"
   ]
  },
  {
   "cell_type": "markdown",
   "metadata": {},
   "source": [
    "インデックスに`-3`を指定したので、最後から３文字目の`p`が表示されます。"
   ]
  },
  {
   "cell_type": "markdown",
   "metadata": {},
   "source": [
    "## 2.3 複数の文字を取り出す\n",
    "\n",
    "**コロン**`:`を使って、複数の文字を取得することができます。\n",
    "\n",
    "この操作を**スライス**と呼びます。\n",
    "\n",
    "`変数[始点:終点]`\n",
    "\n",
    "この時、**終点の1つ前**までを取得することができます。  \n",
    "ここで入力する順番は、もちろん**最初を0**としたときの順番です。"
   ]
  },
  {
   "cell_type": "code",
   "execution_count": 6,
   "metadata": {},
   "outputs": [
    {
     "name": "stdout",
     "output_type": "stream",
     "text": [
      "protein\n"
     ]
    }
   ],
   "source": [
    "f = a[6:13]\n",
    "print(f)"
   ]
  },
  {
   "cell_type": "markdown",
   "metadata": {},
   "source": [
    "7文字目(インデックスでは6)から13文字目(インデックスでは12)までの文字`protein`が表示されます。  \n",
    "**スペースも一文字とカウント**されます。  \n",
    "終点で指定した順番の一つ前まで、というのが、慣れるまでは少しややこしいかもしれません。\n",
    "\n",
    "<br>\n",
    "\n",
    "始点だけ記入した場合は、その**始点から最後まで**を取得できます。"
   ]
  },
  {
   "cell_type": "code",
   "execution_count": 7,
   "metadata": {},
   "outputs": [
    {
     "name": "stdout",
     "output_type": "stream",
     "text": [
      "protein p53\n"
     ]
    }
   ],
   "source": [
    "g = a[6:]\n",
    "print(g)"
   ]
  },
  {
   "cell_type": "markdown",
   "metadata": {},
   "source": [
    "7文字目以降の`protein p53`が表示されます。\n",
    "\n",
    "<br>\n",
    "\n",
    "同様に、終点だけ記載した場合は、**最初から終点の一つ前まで**を取得できます。"
   ]
  },
  {
   "cell_type": "code",
   "execution_count": 8,
   "metadata": {},
   "outputs": [
    {
     "name": "stdout",
     "output_type": "stream",
     "text": [
      "tumor protein\n"
     ]
    }
   ],
   "source": [
    "h = a[:13]\n",
    "print(h)"
   ]
  },
  {
   "cell_type": "markdown",
   "metadata": {},
   "source": [
    "13文字目(インデックスでは12)までの`tumor protein`が表示されます。\n",
    "\n",
    "<br>\n",
    "\n",
    "`[::-1]`と書くと**逆順**の文字列を取得できます。"
   ]
  },
  {
   "cell_type": "code",
   "execution_count": 9,
   "metadata": {},
   "outputs": [
    {
     "name": "stdout",
     "output_type": "stream",
     "text": [
      "35p nietorp romut\n"
     ]
    }
   ],
   "source": [
    "r = a[::-1]\n",
    "print(r)"
   ]
  }
 ],
 "metadata": {
  "kernelspec": {
   "display_name": "Python 3",
   "language": "python",
   "name": "python3"
  },
  "language_info": {
   "codemirror_mode": {
    "name": "ipython",
    "version": 3
   },
   "file_extension": ".py",
   "mimetype": "text/x-python",
   "name": "python",
   "nbconvert_exporter": "python",
   "pygments_lexer": "ipython3",
   "version": "3.8.5"
  }
 },
 "nbformat": 4,
 "nbformat_minor": 4
}
