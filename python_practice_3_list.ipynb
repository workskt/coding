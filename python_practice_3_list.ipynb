{
 "cells": [
  {
   "cell_type": "markdown",
   "metadata": {},
   "source": [
    "# 3. リスト\n",
    "\n",
    "---\n",
    "\n",
    "## 3.1 リストの作成\n",
    "\n",
    "<br>\n",
    "\n",
    "リストは、複数のデータを格納できる変数です。  \n",
    "以下のように書くことでリストにデータを格納できます。\n",
    "\n",
    "`変数 = ['要素1', '要素2', '要素3']`\n",
    "\n",
    "格納したい要素をカンマで区切り、全体を`[ ]`で囲みます。\n",
    "要素は何個でも構いません。　\n",
    "\n",
    "<br>\n",
    "\n",
    "以下のようなリストを作成してみます。"
   ]
  },
  {
   "cell_type": "code",
   "execution_count": 1,
   "metadata": {},
   "outputs": [
    {
     "name": "stdout",
     "output_type": "stream",
     "text": [
      "['TP53', 'EGFR', 'MYC', 'CDKN1A']\n"
     ]
    }
   ],
   "source": [
    "a = ['TP53', 'EGFR', 'MYC', 'CDKN1A']\n",
    "print(a)"
   ]
  },
  {
   "cell_type": "markdown",
   "metadata": {},
   "source": [
    "作成したリストが表示されます。\n"
   ]
  },
  {
   "cell_type": "markdown",
   "metadata": {},
   "source": [
    "<br>\n",
    "\n",
    "---\n",
    "\n",
    "## 3.2 リストから要素を取り出す\n",
    "\n",
    "リストから特定の要素を取り出す時は、リストの変数名の横にインデックスをつけます(`[ ]`をつけて、その中に順番を記入)。\n",
    "\n",
    "文字列の処理の時と同様、インデックスは**1番目は0**です。以降、2番目は1、3番目は2と続きます。"
   ]
  },
  {
   "cell_type": "code",
   "execution_count": 2,
   "metadata": {},
   "outputs": [
    {
     "name": "stdout",
     "output_type": "stream",
     "text": [
      "TP53\n"
     ]
    }
   ],
   "source": [
    "b = a[0]\n",
    "print(b)"
   ]
  },
  {
   "cell_type": "markdown",
   "metadata": {},
   "source": [
    "リストの一番目の要素である`TP53`が表示されます。\n",
    "\n",
    "<br>\n",
    "\n",
    "**マイナスの数値**を入れると、後ろから数えた順番の要素を取り出せます。"
   ]
  },
  {
   "cell_type": "code",
   "execution_count": 3,
   "metadata": {},
   "outputs": [
    {
     "name": "stdout",
     "output_type": "stream",
     "text": [
      "CDKN1A\n"
     ]
    }
   ],
   "source": [
    "c = a[-1]\n",
    "print(c)"
   ]
  },
  {
   "cell_type": "markdown",
   "metadata": {},
   "source": [
    "**コロン**を使って、複数の要素を取り出すこともできます(スライス）。"
   ]
  },
  {
   "cell_type": "code",
   "execution_count": 4,
   "metadata": {},
   "outputs": [
    {
     "name": "stdout",
     "output_type": "stream",
     "text": [
      "['EGFR', 'MYC']\n"
     ]
    }
   ],
   "source": [
    "d = a[1: 3]\n",
    "print(d)"
   ]
  },
  {
   "cell_type": "markdown",
   "metadata": {},
   "source": [
    "終点で指定した順番の一つ前までの要素が表示されます。  \n",
    "文字列の場合と一緒です。"
   ]
  },
  {
   "cell_type": "markdown",
   "metadata": {},
   "source": [
    "最初の要素から取り出す場合は始点を省略できます。  \n",
    "最後の要素まで取り出す場合は終点を省略できます。  \n",
    "この点は文字列のスライスと同様です。  "
   ]
  },
  {
   "cell_type": "code",
   "execution_count": 5,
   "metadata": {},
   "outputs": [
    {
     "name": "stdout",
     "output_type": "stream",
     "text": [
      "['TP53', 'EGFR']\n"
     ]
    }
   ],
   "source": [
    "e = a[: 2]\n",
    "print(e)"
   ]
  },
  {
   "cell_type": "markdown",
   "metadata": {},
   "source": [
    "最初と2番目の要素を取得できました。"
   ]
  },
  {
   "cell_type": "code",
   "execution_count": 6,
   "metadata": {},
   "outputs": [
    {
     "name": "stdout",
     "output_type": "stream",
     "text": [
      "['MYC', 'CDKN1A']\n"
     ]
    }
   ],
   "source": [
    "f = a[2:]\n",
    "print(f)"
   ]
  },
  {
   "cell_type": "markdown",
   "metadata": {},
   "source": [
    "３番目から最後までの要素を取得できました。"
   ]
  },
  {
   "cell_type": "markdown",
   "metadata": {},
   "source": [
    "<br>\n",
    "\n",
    "**存在しないインデックスを指定するとエラーになります**ので注意してください。  \n",
    "エラーが存在すると、その部分でプログラムは止まってしまい、最後まで実行されません。"
   ]
  },
  {
   "cell_type": "code",
   "execution_count": 7,
   "metadata": {},
   "outputs": [
    {
     "ename": "IndexError",
     "evalue": "list index out of range",
     "output_type": "error",
     "traceback": [
      "\u001b[0;31m---------------------------------------------------------------------------\u001b[0m",
      "\u001b[0;31mIndexError\u001b[0m                                Traceback (most recent call last)",
      "\u001b[0;32m<ipython-input-7-ba4863cd608d>\u001b[0m in \u001b[0;36m<module>\u001b[0;34m\u001b[0m\n\u001b[0;32m----> 1\u001b[0;31m \u001b[0mprint\u001b[0m\u001b[0;34m(\u001b[0m\u001b[0ma\u001b[0m\u001b[0;34m[\u001b[0m\u001b[0;36m4\u001b[0m\u001b[0;34m]\u001b[0m\u001b[0;34m)\u001b[0m\u001b[0;34m\u001b[0m\u001b[0;34m\u001b[0m\u001b[0m\n\u001b[0m",
      "\u001b[0;31mIndexError\u001b[0m: list index out of range"
     ]
    }
   ],
   "source": [
    "print(a[4])"
   ]
  },
  {
   "cell_type": "markdown",
   "metadata": {},
   "source": [
    "エラーメッセージが表示されます。  \n",
    "`list index out of range`とエラーの理由をちゃんと教えてくれます。"
   ]
  },
  {
   "cell_type": "markdown",
   "metadata": {},
   "source": [
    "<br>\n",
    "\n",
    "---\n",
    "\n",
    "## 3.3 要素を変更する\n",
    "\n",
    "リストの中の要素を別のものに置き換えたい時は、置き換えたい要素をスライスで指定して、代入演算子`=`で新しい要素を代入します。"
   ]
  },
  {
   "cell_type": "code",
   "execution_count": 8,
   "metadata": {},
   "outputs": [
    {
     "name": "stdout",
     "output_type": "stream",
     "text": [
      "['TP53', 'EGFR', 'MYC', 'KRAS']\n"
     ]
    }
   ],
   "source": [
    "a[3] = 'KRAS'\n",
    "print(a)"
   ]
  },
  {
   "cell_type": "markdown",
   "metadata": {},
   "source": [
    "リストの4番目の要素が、`CDKN1A`から`KRAS`に置き換わりました。"
   ]
  },
  {
   "cell_type": "markdown",
   "metadata": {},
   "source": [
    "<br>\n",
    "\n",
    "---\n",
    "\n",
    "## 3.4 要素を追加する\n",
    "\n",
    "リストに要素を追加したいときには、リスト型のメソッド（リスト型のデータを処理する関数）である`append()`を使います。\n",
    "\n",
    "カッコの中に追加したい要素を入力します。\n",
    "\n",
    "使い方は、処理をしたい変数とメソッドを`.`で繋ぎます。"
   ]
  },
  {
   "cell_type": "code",
   "execution_count": 9,
   "metadata": {},
   "outputs": [
    {
     "name": "stdout",
     "output_type": "stream",
     "text": [
      "['TP53', 'EGFR', 'MYC', 'KRAS', 'RB']\n"
     ]
    }
   ],
   "source": [
    "a.append('RB')\n",
    "print(a)"
   ]
  },
  {
   "cell_type": "markdown",
   "metadata": {},
   "source": [
    "リスト`a`に、新しい要素`RB`が追加されました。"
   ]
  }
 ],
 "metadata": {
  "kernelspec": {
   "display_name": "Python 3",
   "language": "python",
   "name": "python3"
  },
  "language_info": {
   "codemirror_mode": {
    "name": "ipython",
    "version": 3
   },
   "file_extension": ".py",
   "mimetype": "text/x-python",
   "name": "python",
   "nbconvert_exporter": "python",
   "pygments_lexer": "ipython3",
   "version": "3.8.5"
  }
 },
 "nbformat": 4,
 "nbformat_minor": 4
}
