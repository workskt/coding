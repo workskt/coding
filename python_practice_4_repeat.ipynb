{
 "cells": [
  {
   "cell_type": "markdown",
   "metadata": {},
   "source": [
    "# 4. 繰り返し\n",
    "\n",
    "---\n",
    "\n",
    "## 4.1 for文\n",
    "\n",
    "複数の要素について同じ処理を繰り返す時、以下のような**for文**を使います。\n",
    "\n",
    "<br>\n",
    "\n",
    "```python\n",
    "for 取り出した要素を代入する変数 in 複数の要素を持つ変数:\n",
    "(インデント)処理したい内容\n",
    "```\n",
    "<br>\n",
    "\n",
    "例えば、遺伝子名のリストを作成して、その要素を順番に取り出して出力するためには以下のように書きます。"
   ]
  },
  {
   "cell_type": "code",
   "execution_count": 1,
   "metadata": {},
   "outputs": [
    {
     "name": "stdout",
     "output_type": "stream",
     "text": [
      "TP53\n",
      "EGFR\n",
      "MYC\n",
      "CDKN1A\n"
     ]
    }
   ],
   "source": [
    "a = ['TP53', 'EGFR', 'MYC', 'CDKN1A']\n",
    "for gene in a:\n",
    "    print(gene)"
   ]
  },
  {
   "cell_type": "markdown",
   "metadata": {},
   "source": [
    "リストに格納された要素である遺伝子名が順番に出力されます。  \n",
    "<br>\n",
    "\n",
    "最初の行で、まず複数の遺伝子名を持つリスト`a`を作成しています。  \n",
    "\n",
    "その次の行からがfor文です。  \n",
    "`in`の後ろに書いた変数`a`から要素が一つ取り出されて、`for`の後ろに記載した変数`gene`に代入されます。  \n",
    "そして**コロン**の次の行以降に書いてある処理が行われます。  \n",
    "この処理が終わると、次の要素が`for`の後ろに書いた変数に代入され、同様の処理が繰り返されます。  \n",
    "<br>\n",
    "\n",
    "`for`の後ろの変数の名前は自由につけることができます。  \n",
    "`for`の行の最後には必ず**コロン**`:`が必要です。  \n",
    "\n",
    "処理内容を記載する部分には、必ず**インデント**を入れる必要があります。  \n",
    "このインデントにより、どこまでがfor文かを判断しています。  \n",
    "そのため、**インデント** がないとfor文から抜け出してしまいますので注意してください。  \n",
    "**インデント** は、**スペース4個** が推奨されているようですが、タブでも大丈夫です。  \n",
    "ただし、インデントは**コードの中で統一しなければいけません**。  \n",
    "<br>\n",
    "\n",
    "以下のように、リストの全ての要素に同じ処理をする時などに使います。"
   ]
  },
  {
   "cell_type": "code",
   "execution_count": 2,
   "metadata": {
    "scrolled": true
   },
   "outputs": [
    {
     "name": "stdout",
     "output_type": "stream",
     "text": [
      "TP53_expression\n",
      "EGFR_expression\n",
      "MYC_expression\n",
      "CDKN1A_expression\n"
     ]
    }
   ],
   "source": [
    "for gene in a:\n",
    "    output = gene + '_expression'\n",
    "    print(output)"
   ]
  },
  {
   "cell_type": "markdown",
   "metadata": {},
   "source": [
    "---\n",
    "\n",
    "## 4.2 range関数\n",
    "\n",
    "0,1,2,3...のように、連続する数値を生成させたい時には、`range`関数を使います。  \n",
    "これとfor文を組み合わせて繰り返し処理をさせることもあります。  \n",
    "\n",
    "```python\n",
    "for 数値を代入する変数 in range(終点):\n",
    "(インデント)処理したい内容\n",
    "```  \n",
    "\n",
    "**0から終点の数値の一つ前まで**の数値を順番に変数に代入していきます。  \n",
    "<br>"
   ]
  },
  {
   "cell_type": "code",
   "execution_count": 3,
   "metadata": {},
   "outputs": [
    {
     "name": "stdout",
     "output_type": "stream",
     "text": [
      "0 TP53\n",
      "1 EGFR\n",
      "2 MYC\n",
      "3 CDKN1A\n"
     ]
    }
   ],
   "source": [
    "for i in range(4):\n",
    "    print(i, a[i])"
   ]
  },
  {
   "cell_type": "markdown",
   "metadata": {},
   "source": [
    "最初は`0`が`i`に代入されます。  \n",
    "`print(i)`の命令により`0`が表示されます。  \n",
    "次の行もインデントを挟んで`print(a[i])`という命令が書かれていますので、これも繰り返し処理されます。  \n",
    "今は変数`i`には`0`が代入されていますので、`a[0]`はリストの一番目の要素である`TP53`を出力します。  \n",
    "ここで繰り返し処理の命令は終わりですので、次の数値`1`が`i`に代入され、同じ処理が繰り返されます。  \n",
    "\n",
    "\n",
    "`for`の後ろの変数は好きな名前をつけても構いませんが、iterationを意味する`i`がよく使われます。  "
   ]
  },
  {
   "cell_type": "markdown",
   "metadata": {},
   "source": [
    "<br>\n",
    "\n",
    "`range( )`関数は、以下のように繰り返しの条件を細かく指定することができます。\n",
    "\n",
    "```python\n",
    "for 数値を代入する変数 in range(始点, 終点, 間隔):\n",
    "(インデント)処理したい内容\n",
    "```  \n",
    "\n",
    "数値を一つだけ入力した場合は、最初の例のように終点となります。\n",
    "\n",
    "例えば、二つ目の要素から処理したい場合は、始点を**1**から始めます。"
   ]
  },
  {
   "cell_type": "code",
   "execution_count": 4,
   "metadata": {},
   "outputs": [
    {
     "name": "stdout",
     "output_type": "stream",
     "text": [
      "1 EGFR\n",
      "2 MYC\n",
      "3 CDKN1A\n"
     ]
    }
   ],
   "source": [
    "for i in range(1, 4):\n",
    "    print(i, a[i])"
   ]
  },
  {
   "cell_type": "markdown",
   "metadata": {},
   "source": [
    "一つ飛ばしで取り出したい場合には、間隔を**2**にします。"
   ]
  },
  {
   "cell_type": "code",
   "execution_count": 5,
   "metadata": {},
   "outputs": [
    {
     "name": "stdout",
     "output_type": "stream",
     "text": [
      "0 TP53\n",
      "2 MYC\n"
     ]
    }
   ],
   "source": [
    "for i in range(0, 4, 2):\n",
    "    print(i, a[i])"
   ]
  }
 ],
 "metadata": {
  "kernelspec": {
   "display_name": "Python 3",
   "language": "python",
   "name": "python3"
  },
  "language_info": {
   "codemirror_mode": {
    "name": "ipython",
    "version": 3
   },
   "file_extension": ".py",
   "mimetype": "text/x-python",
   "name": "python",
   "nbconvert_exporter": "python",
   "pygments_lexer": "ipython3",
   "version": "3.8.5"
  }
 },
 "nbformat": 4,
 "nbformat_minor": 4
}
