{
 "cells": [
  {
   "cell_type": "markdown",
   "metadata": {},
   "source": [
    "# 8. ソート\n",
    "\n",
    "---\n",
    "\n",
    "## 8.1 リストのソート\n",
    "\n",
    "<br>\n",
    "\n",
    "リストの中身を並び替えたい場合は、以下の二通りの方法があります。  \n",
    "(1) `sort( )`を使う  \n",
    "(2) `sorted( )`を使う"
   ]
  },
  {
   "cell_type": "markdown",
   "metadata": {},
   "source": [
    "(1) `sort( )`を使う  \n",
    "\n",
    "これはリスト型のメソッドですので、ソートしたいリストと`sort( )`を`.`で繋ぎます。  \n",
    "指定したリストの要素が並び替えられ、上書きされます。"
   ]
  },
  {
   "cell_type": "code",
   "execution_count": 1,
   "metadata": {},
   "outputs": [
    {
     "name": "stdout",
     "output_type": "stream",
     "text": [
      "['CDKN1A', 'EGFR', 'MYC', 'TP53']\n"
     ]
    }
   ],
   "source": [
    "a = ['TP53', 'EGFR', 'MYC', 'CDKN1A']\n",
    "a.sort()\n",
    "print(a)"
   ]
  },
  {
   "cell_type": "markdown",
   "metadata": {},
   "source": [
    "リスト`a`の要素が、アルファベット順に並び替えられました。  \n",
    "上書きされるので、元の順番を持つ配列は残っていません。"
   ]
  },
  {
   "cell_type": "markdown",
   "metadata": {},
   "source": [
    "(2) `sorted( )`を使う\n",
    "\n",
    "これは組み込み関数（最初から使える関数）で、新しいリストを返します。  \n",
    "\n",
    "> 組み込み関数の一覧はこちらから。  \n",
    "> https://docs.python.org/ja/3/library/functions.html  \n",
    "> 組み込み関数でないものは、事前にimportする必要があります（後述）。"
   ]
  },
  {
   "cell_type": "code",
   "execution_count": 2,
   "metadata": {},
   "outputs": [
    {
     "name": "stdout",
     "output_type": "stream",
     "text": [
      "['CDKN1A', 'EGFR', 'MYC', 'TP53']\n",
      "['TP53', 'EGFR', 'MYC', 'CDKN1A']\n"
     ]
    }
   ],
   "source": [
    "a = ['TP53', 'EGFR', 'MYC', 'CDKN1A']\n",
    "b = sorted(a)\n",
    "print(b)\n",
    "print(a)"
   ]
  },
  {
   "cell_type": "markdown",
   "metadata": {},
   "source": [
    "新しく定義した`b`に並び替えられたリストが代入されました。  \n",
    "元のリスト`a`はそのまま残っています。"
   ]
  },
  {
   "cell_type": "markdown",
   "metadata": {},
   "source": [
    "降順に並べ替えたい場合は、カッコ内に`reverse=True`と書きます。"
   ]
  },
  {
   "cell_type": "code",
   "execution_count": 3,
   "metadata": {},
   "outputs": [
    {
     "name": "stdout",
     "output_type": "stream",
     "text": [
      "['TP53', 'MYC', 'EGFR', 'CDKN1A']\n"
     ]
    }
   ],
   "source": [
    "a = ['TP53', 'EGFR', 'MYC', 'CDKN1A']\n",
    "a.sort(reverse=True)\n",
    "print(a)"
   ]
  },
  {
   "cell_type": "code",
   "execution_count": 4,
   "metadata": {},
   "outputs": [
    {
     "name": "stdout",
     "output_type": "stream",
     "text": [
      "['TP53', 'MYC', 'EGFR', 'CDKN1A']\n"
     ]
    }
   ],
   "source": [
    "a = ['TP53', 'EGFR', 'MYC', 'CDKN1A']\n",
    "b = sorted(a, reverse=True)\n",
    "print(b)"
   ]
  },
  {
   "cell_type": "markdown",
   "metadata": {},
   "source": [
    "---\n",
    "\n",
    "## 8.2 文字列のソート\n",
    "\n",
    "<br>\n",
    "\n",
    "文字列を並び替える場合は、`sorted( )`を使用します。  \n",
    "結果はリスト型として返されます。"
   ]
  },
  {
   "cell_type": "code",
   "execution_count": 5,
   "metadata": {},
   "outputs": [
    {
     "name": "stdout",
     "output_type": "stream",
     "text": [
      "[' ', ' ', '3', '5', 'e', 'i', 'm', 'n', 'o', 'o', 'p', 'p', 'r', 'r', 't', 't', 'u']\n",
      "<class 'list'>\n",
      "['u', 't', 't', 'r', 'r', 'p', 'p', 'o', 'o', 'n', 'm', 'i', 'e', '5', '3', ' ', ' ']\n",
      "<class 'list'>\n"
     ]
    }
   ],
   "source": [
    "a = 'tumor protein p53'\n",
    "b = sorted(a)\n",
    "print(b)\n",
    "print(type(b))\n",
    "c = sorted(a, reverse=True)\n",
    "print(c)\n",
    "print(type(c))"
   ]
  },
  {
   "cell_type": "markdown",
   "metadata": {},
   "source": [
    "リスト型だと使いにくいので、文字列に戻す場合は、リスト型のメソッド`join( )`を使います。  \n",
    "`join( )`はリストの要素を、指定した区切り文字をはさんで連結してくれます。\n",
    "\n",
    "```python\n",
    "`'区切り文字'.join( )`\n",
    "```"
   ]
  },
  {
   "cell_type": "code",
   "execution_count": 6,
   "metadata": {},
   "outputs": [
    {
     "name": "stdout",
     "output_type": "stream",
     "text": [
      "  35eimnoopprrttu\n",
      "<class 'str'>\n"
     ]
    }
   ],
   "source": [
    "d = ''.join(b)\n",
    "print(d)\n",
    "print(type(d))"
   ]
  },
  {
   "cell_type": "markdown",
   "metadata": {},
   "source": [
    "カンマで区切って出力することもできます。"
   ]
  },
  {
   "cell_type": "code",
   "execution_count": 7,
   "metadata": {},
   "outputs": [
    {
     "name": "stdout",
     "output_type": "stream",
     "text": [
      " , ,3,5,e,i,m,n,o,o,p,p,r,r,t,t,u\n"
     ]
    }
   ],
   "source": [
    "d = ','.join(b)\n",
    "print(d)"
   ]
  },
  {
   "cell_type": "markdown",
   "metadata": {},
   "source": [
    "---\n",
    "\n",
    "## 8.3 辞書のソート\n",
    "\n",
    "<br>\n",
    "\n",
    "辞書を並び替えたい場合も、`sorted( )`を使用します。  \n",
    "\n",
    "キーを並び替えたい場合は、`keys( )`を使います。  \n",
    "結果はリスト形式で返されます。"
   ]
  },
  {
   "cell_type": "code",
   "execution_count": 8,
   "metadata": {},
   "outputs": [
    {
     "name": "stdout",
     "output_type": "stream",
     "text": [
      "['CDKN1A', 'EGFR', 'MYC', 'TP53']\n",
      "<class 'list'>\n"
     ]
    }
   ],
   "source": [
    "genes_dict = {'TP53': 100, 'EGFR': 300, 'MYC': 400, 'CDKN1A': 200}\n",
    "a = sorted(genes_dict.keys())\n",
    "print(a)\n",
    "print(type(a))"
   ]
  },
  {
   "cell_type": "markdown",
   "metadata": {},
   "source": [
    "要素を並び替えたい場合は、`values( )`を使います。"
   ]
  },
  {
   "cell_type": "code",
   "execution_count": 9,
   "metadata": {
    "scrolled": true
   },
   "outputs": [
    {
     "name": "stdout",
     "output_type": "stream",
     "text": [
      "[100, 200, 300, 400]\n"
     ]
    }
   ],
   "source": [
    "genes_dict = {'TP53': 100, 'EGFR': 300, 'MYC': 400, 'CDKN1A': 200}\n",
    "b = sorted(genes_dict.values())\n",
    "print(b)"
   ]
  },
  {
   "cell_type": "markdown",
   "metadata": {},
   "source": [
    "降順で並べ替えたい場合は、カッコ内に`reverse=True`と書きます。"
   ]
  },
  {
   "cell_type": "code",
   "execution_count": 10,
   "metadata": {
    "scrolled": false
   },
   "outputs": [
    {
     "name": "stdout",
     "output_type": "stream",
     "text": [
      "[400, 300, 200, 100]\n"
     ]
    }
   ],
   "source": [
    "genes_dict = {'TP53': 100, 'EGFR': 300, 'MYC': 400, 'CDKN1A': 200}\n",
    "c = sorted(genes_dict.values(), reverse=True)\n",
    "print(c)"
   ]
  },
  {
   "cell_type": "markdown",
   "metadata": {},
   "source": [
    "さて、要素の順番で並び替えて、その順番でキーを取得したいときはどうすればよいでしょうか。  \n",
    "遺伝子名と発現量が格納された辞書を使って、遺伝子を発現量順に並べるといったことはしばしばあります。  \n",
    "\n",
    "この場合、辞書型のメソッド`items( )`、**key関数**、**lambda関数（無名関数）**を使用します。  \n",
    "結果はタプル型で返されます。"
   ]
  },
  {
   "cell_type": "code",
   "execution_count": 11,
   "metadata": {
    "scrolled": true
   },
   "outputs": [
    {
     "name": "stdout",
     "output_type": "stream",
     "text": [
      "[('MYC', 400), ('EGFR', 300), ('CDKN1A', 200), ('TP53', 100)]\n"
     ]
    }
   ],
   "source": [
    "genes_dict = {'TP53': 100, 'EGFR': 300, 'MYC': 400, 'CDKN1A': 200}\n",
    "genes_sorted = sorted(genes_dict.items(), key=lambda x:x[1], reverse=True)\n",
    "print(genes_sorted)"
   ]
  },
  {
   "cell_type": "markdown",
   "metadata": {},
   "source": [
    "要素の降順に並び替えられて、タプル型で結果が返ってきました。\n",
    "\n",
    "`sorted( )`のカッコ内がちょっと難しいかもしれませんが、とりあえずそのまま覚えましょう。  \n",
    "そして、しばらくして慣れてきたら調べてみてください。  \n",
    "今は説明を読んでもよくわからないかもしれませんが、その頃にはきっと理解できるようになっていると思います。  "
   ]
  },
  {
   "cell_type": "markdown",
   "metadata": {},
   "source": [
    "もし遺伝子名をリストで取得したければ、リスト内包表記を使いましょう。"
   ]
  },
  {
   "cell_type": "code",
   "execution_count": 12,
   "metadata": {},
   "outputs": [
    {
     "name": "stdout",
     "output_type": "stream",
     "text": [
      "['MYC', 'EGFR', 'CDKN1A', 'TP53']\n"
     ]
    }
   ],
   "source": [
    "genes_dict = {'TP53': 100, 'EGFR': 300, 'MYC': 400, 'CDKN1A': 200}\n",
    "genes_sorted = [gene for gene, expression in sorted(genes_dict.items(), key=lambda x:x[1], reverse=True)]\n",
    "print(genes_sorted)"
   ]
  }
 ],
 "metadata": {
  "kernelspec": {
   "display_name": "Python 3",
   "language": "python",
   "name": "python3"
  },
  "language_info": {
   "codemirror_mode": {
    "name": "ipython",
    "version": 3
   },
   "file_extension": ".py",
   "mimetype": "text/x-python",
   "name": "python",
   "nbconvert_exporter": "python",
   "pygments_lexer": "ipython3",
   "version": "3.8.5"
  }
 },
 "nbformat": 4,
 "nbformat_minor": 4
}
