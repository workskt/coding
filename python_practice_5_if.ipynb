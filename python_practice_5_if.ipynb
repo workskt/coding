{
 "cells": [
  {
   "cell_type": "markdown",
   "metadata": {},
   "source": [
    "# 5. if文 wihle文\n",
    "\n",
    "---\n",
    "\n",
    "## 5.1 if文\n",
    "\n",
    "ある条件に当てはまる時だけ処理を行いたい場合には、**if文** を使用します。\n",
    "\n",
    "```python\n",
    "if 条件式1:\n",
    "  命令1\n",
    "elif 条件式2:\n",
    "  命令2\n",
    "else:\n",
    "  命令3\n",
    "```\n",
    "`elif`の条件は増やしても構いません。  \n",
    "また、条件が一つだけで、当てはまらない場合に何も処理をしないのであれば、`if`だけでも構いません。  \n",
    "<br>\n",
    "\n",
    "以下のコードは、リストから条件に当てはまる要素だけ`print`するif文の例です。"
   ]
  },
  {
   "cell_type": "code",
   "execution_count": 1,
   "metadata": {},
   "outputs": [
    {
     "name": "stdout",
     "output_type": "stream",
     "text": [
      "others\n",
      "EGFR\n",
      "others\n",
      "others\n"
     ]
    }
   ],
   "source": [
    "a = ['TP53', 'EGFR', 'MYC', 'CDKN1A']\n",
    "for gene in a:\n",
    "    if gene == 'EGFR':\n",
    "        print(gene)\n",
    "    else:\n",
    "        print('others')"
   ]
  },
  {
   "cell_type": "markdown",
   "metadata": {},
   "source": [
    "for文を使ってリスト`a`の要素を順番に取り出し、`if`で遺伝子名が`EGFR`と一致する場合はその名前を、そうでなければ`else`で`others`と出力するよう命令しています。  \n",
    "<br>\n",
    "\n",
    "`==`は同一であることを示す比較演算子です。  \n",
    "`=`は等しいという意味ではなく、代入するための演算子ですので気をつけてください。\n",
    "<br>\n",
    "\n",
    "他の比較演算子の例です（一部）。  \n",
    "`>` より大きい  \n",
    "`>=` 以上  \n",
    "`<` 未満  \n",
    "`<=` 以下  \n",
    "`==` 同じ  \n",
    "`!=` 異なる\n",
    "\n",
    "<br>\n",
    "\n",
    "前にも説明しましたが、文字列は必ず**クォーテーション**で囲む必要があります。  \n",
    "これを忘れると`EGFR`という変数を意味することになりますが、`EGFR`という変数はこれまでに定義されていないため、エラーが出力されます。  "
   ]
  },
  {
   "cell_type": "code",
   "execution_count": 2,
   "metadata": {},
   "outputs": [
    {
     "ename": "NameError",
     "evalue": "name 'EGFR' is not defined",
     "output_type": "error",
     "traceback": [
      "\u001b[0;31m---------------------------------------------------------------------------\u001b[0m",
      "\u001b[0;31mNameError\u001b[0m                                 Traceback (most recent call last)",
      "\u001b[0;32m<ipython-input-2-cac8c0f9f379>\u001b[0m in \u001b[0;36m<module>\u001b[0;34m\u001b[0m\n\u001b[1;32m      1\u001b[0m \u001b[0ma\u001b[0m \u001b[0;34m=\u001b[0m \u001b[0;34m[\u001b[0m\u001b[0;34m'TP53'\u001b[0m\u001b[0;34m,\u001b[0m \u001b[0;34m'EGFR'\u001b[0m\u001b[0;34m,\u001b[0m \u001b[0;34m'MYC'\u001b[0m\u001b[0;34m,\u001b[0m \u001b[0;34m'CDKN1A'\u001b[0m\u001b[0;34m]\u001b[0m\u001b[0;34m\u001b[0m\u001b[0;34m\u001b[0m\u001b[0m\n\u001b[1;32m      2\u001b[0m \u001b[0;32mfor\u001b[0m \u001b[0mgene\u001b[0m \u001b[0;32min\u001b[0m \u001b[0ma\u001b[0m\u001b[0;34m:\u001b[0m\u001b[0;34m\u001b[0m\u001b[0;34m\u001b[0m\u001b[0m\n\u001b[0;32m----> 3\u001b[0;31m     \u001b[0;32mif\u001b[0m \u001b[0mgene\u001b[0m \u001b[0;34m==\u001b[0m \u001b[0mEGFR\u001b[0m\u001b[0;34m:\u001b[0m\u001b[0;34m\u001b[0m\u001b[0;34m\u001b[0m\u001b[0m\n\u001b[0m\u001b[1;32m      4\u001b[0m         \u001b[0mprint\u001b[0m\u001b[0;34m(\u001b[0m\u001b[0mgene\u001b[0m\u001b[0;34m)\u001b[0m\u001b[0;34m\u001b[0m\u001b[0;34m\u001b[0m\u001b[0m\n\u001b[1;32m      5\u001b[0m     \u001b[0;32melse\u001b[0m\u001b[0;34m:\u001b[0m\u001b[0;34m\u001b[0m\u001b[0;34m\u001b[0m\u001b[0m\n",
      "\u001b[0;31mNameError\u001b[0m: name 'EGFR' is not defined"
     ]
    }
   ],
   "source": [
    "a = ['TP53', 'EGFR', 'MYC', 'CDKN1A']\n",
    "for gene in a:\n",
    "    if gene == EGFR:\n",
    "        print(gene)\n",
    "    else:\n",
    "        print('others')"
   ]
  },
  {
   "cell_type": "markdown",
   "metadata": {},
   "source": [
    "---\n",
    "\n",
    "## 5.2 while文\n",
    "\n",
    "条件に合致している限り処理を繰り返したい場合は、**while文**を使用します。\n",
    "\n",
    "```python3\n",
    "while 条件式:\n",
    "    繰り返したい処理\n",
    "```\n",
    "\n",
    "以下のように使います。"
   ]
  },
  {
   "cell_type": "code",
   "execution_count": 3,
   "metadata": {},
   "outputs": [
    {
     "name": "stdout",
     "output_type": "stream",
     "text": [
      "1\n",
      "2\n",
      "3\n",
      "4\n",
      "5\n"
     ]
    }
   ],
   "source": [
    "a = 0\n",
    "while a < 5:\n",
    "    a += 1\n",
    "    print(a)"
   ]
  },
  {
   "cell_type": "markdown",
   "metadata": {},
   "source": [
    "`a`が5未満であれば、1を足して出力します。\n",
    "\n",
    "`a`が5以上だと、条件式が真ではないので、繰り返しを終了します。\n",
    "\n",
    "`+=` は変数に1を足す演算子です。"
   ]
  }
 ],
 "metadata": {
  "kernelspec": {
   "display_name": "Python 3",
   "language": "python",
   "name": "python3"
  },
  "language_info": {
   "codemirror_mode": {
    "name": "ipython",
    "version": 3
   },
   "file_extension": ".py",
   "mimetype": "text/x-python",
   "name": "python",
   "nbconvert_exporter": "python",
   "pygments_lexer": "ipython3",
   "version": "3.8.5"
  }
 },
 "nbformat": 4,
 "nbformat_minor": 4
}
