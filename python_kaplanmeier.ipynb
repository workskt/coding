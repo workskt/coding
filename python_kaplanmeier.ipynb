{
 "cells": [
  {
   "cell_type": "markdown",
   "metadata": {},
   "source": [
    "# TCGAのデータを使ってKaplanMeier生存曲線を作る\n",
    "\n",
    "---\n",
    "\n",
    "`lifelines`モジュールを使いますので、インストールします。  \n",
    "公式ドキュメントの使い方の説明がとてもわかりやすいです。  \n",
    "https://lifelines.readthedocs.io/en/latest/index.html  \n",
    "\n",
    "TCGAから臨床データを取得します。  \n",
    "今回は肺がんデータを使います。  \n",
    "\n",
    "TCGA  \n",
    "https://portal.gdc.cancer.gov/\n",
    "\n",
    "Repositoryから  \n",
    "Cases  \n",
    "&emsp;Program: TCGA  \n",
    "&emsp;Project: TCGA-LUSC  \n",
    "Files  \n",
    "&emsp;Experimental Strategy: WXS  \n",
    "&emsp;Access: Open  \n",
    "にチェックをいれ、Add All Files to CartをクリックしてからCartに移動します。  \n",
    "\n",
    "Clinicalのボタンをクリックし、ファイルをダウンロードします。  \n",
    "解凍(tar -xvzf ファイル名)して得られたclinical.tsvファイルを使用します。  \n",
    "\n",
    "データフレームを駆使して必要な情報を取得してもよいですが、  \n",
    "必要なデータだけピックアップした新しいファイルを作ったほうがわかりやすいので、  \n",
    "ここでは以下のようにして新しいファイルを作成します。  "
   ]
  },
  {
   "cell_type": "code",
   "execution_count": 1,
   "metadata": {},
   "outputs": [
    {
     "name": "stdout",
     "output_type": "stream",
     "text": [
      "68107725-a883-4b33-a366-d9b4adb18028\tTCGA-63-5131\tTCGA-LUSC\t'--\t'--\t'--\t'--\t'--\t'--\t'--\tnot reported\tmale\t'--\t'--\tnot reported\tDead\t'--\t'--\t'--\t'--\t'--\t'--\t'--\t'--\tM0\tN1\tStage IIB\tT2\t6th\t'--\t'--\t'--\t'--\t'--\t'--\t'--\t'--\t'--\t'--\t'--\tnot reported\t'--\t'--\t'--\t'--\t'--\t'--\t'--\t'--\t'--\t'--\t'--\t'--\t'--\t'--\t'--\t'--\t'--\t'--\t'--\t'--\t'--\t'--\t'--\t'--\t'--\t'--\tC34.9\t'--\t'--\t'--\t'--\t'--\t'--\t'--\t'--\t'--\t'--\t'--\tnot reported\t'--\t'--\t'--\t'--\t'--\t'--\t'--\t'--\t'--\t'--\t'--\t'--\t'--\t'--\t'--\t8070/3\t'--\t'--\t'--\t'--\t'--\t'--\t'--\t'--\t'--\t'--\t'--\tSquamous cell carcinoma, NOS\t'--\tno\tNo\tnot reported\t'--\t'--\t'--\tLung, NOS\t'--\t'--\tNo\tLung, NOS\t'--\t'--\t'--\t'--\tnot reported\t'--\t'--\tstage iib\t'--\t'--\t'--\t'--\t'--\t'--\t2008\t'--\t'--\t'--\t'--\t'--\t'--\t'--\t'--\t'--\t'--\t'--\t'--\t'--\t'--\t'--\t'--\tno\t'--\tRadiation Therapy, NOS\n",
      "\n",
      "68107725-a883-4b33-a366-d9b4adb18028\tTCGA-63-5131\tTCGA-LUSC\t'--\t'--\t'--\t'--\t'--\t'--\t'--\tnot reported\tmale\t'--\t'--\tnot reported\tDead\t'--\t'--\t'--\t'--\t'--\t'--\t'--\t'--\tM0\tN1\tStage IIB\tT2\t6th\t'--\t'--\t'--\t'--\t'--\t'--\t'--\t'--\t'--\t'--\t'--\tnot reported\t'--\t'--\t'--\t'--\t'--\t'--\t'--\t'--\t'--\t'--\t'--\t'--\t'--\t'--\t'--\t'--\t'--\t'--\t'--\t'--\t'--\t'--\t'--\t'--\t'--\t'--\tC34.9\t'--\t'--\t'--\t'--\t'--\t'--\t'--\t'--\t'--\t'--\t'--\tnot reported\t'--\t'--\t'--\t'--\t'--\t'--\t'--\t'--\t'--\t'--\t'--\t'--\t'--\t'--\t'--\t8070/3\t'--\t'--\t'--\t'--\t'--\t'--\t'--\t'--\t'--\t'--\t'--\tSquamous cell carcinoma, NOS\t'--\tno\tNo\tnot reported\t'--\t'--\t'--\tLung, NOS\t'--\t'--\tNo\tLung, NOS\t'--\t'--\t'--\t'--\tnot reported\t'--\t'--\tstage iib\t'--\t'--\t'--\t'--\t'--\t'--\t2008\t'--\t'--\t'--\t'--\t'--\t'--\t'--\t'--\t'--\t'--\t'--\t'--\t'--\t'--\t'--\t'--\tno\t'--\tPharmaceutical Therapy, NOS\n",
      "\n",
      "d566fa32-382b-499c-820a-c2bbb22501fb\tTCGA-56-6546\tTCGA-LUSC\t67\t'--\t'--\t'--\t'--\t-24594\t'--\tnot hispanic or latino\tmale\t'--\t'--\twhite\tDead\t'--\t1944\t'--\t24594\t'--\t'--\t'--\t'--\tMX\tN0\tStage IIA\tT2b\t7th\t'--\t'--\t'--\t'--\t'--\t'--\t'--\t'--\t'--\t'--\t'--\tnot reported\t'--\t'--\t'--\t'--\t'--\t0\t'--\t'--\t'--\t'--\t'--\t'--\t'--\t'--\t'--\t'--\t'--\t'--\t'--\t'--\t'--\t'--\t'--\t'--\t'--\t'--\tC34.1\t'--\t'--\t'--\t'--\t'--\t'--\t'--\t'--\t'--\t'--\t'--\tnot reported\t'--\t'--\t'--\t'--\t'--\t'--\t'--\t'--\t'--\t'--\t'--\t'--\t'--\t'--\t'--\t8070/3\t'--\t'--\t'--\t'--\t'--\t'--\t'--\t'--\t'--\t'--\t'--\tSquamous cell carcinoma, NOS\t'--\tno\tNo\tnot reported\t'--\t'--\t'--\tUpper lobe, lung\t'--\t'--\tNo\tUpper lobe, lung\t'--\t'--\t'--\t'--\tnot reported\t'--\t'--\tstage iia\t'--\t'--\t'--\t'--\t'--\t'--\t2011\t'--\t'--\t'--\t'--\t'--\t'--\t'--\t'--\t'--\t'--\t'--\t'--\t'--\t'--\t'--\t'--\tno\t'--\tPharmaceutical Therapy, NOS\n",
      "\n",
      "d566fa32-382b-499c-820a-c2bbb22501fb\tTCGA-56-6546\tTCGA-LUSC\t67\t'--\t'--\t'--\t'--\t-24594\t'--\tnot hispanic or latino\tmale\t'--\t'--\twhite\tDead\t'--\t1944\t'--\t24594\t'--\t'--\t'--\t'--\tMX\tN0\tStage IIA\tT2b\t7th\t'--\t'--\t'--\t'--\t'--\t'--\t'--\t'--\t'--\t'--\t'--\tnot reported\t'--\t'--\t'--\t'--\t'--\t0\t'--\t'--\t'--\t'--\t'--\t'--\t'--\t'--\t'--\t'--\t'--\t'--\t'--\t'--\t'--\t'--\t'--\t'--\t'--\t'--\tC34.1\t'--\t'--\t'--\t'--\t'--\t'--\t'--\t'--\t'--\t'--\t'--\tnot reported\t'--\t'--\t'--\t'--\t'--\t'--\t'--\t'--\t'--\t'--\t'--\t'--\t'--\t'--\t'--\t8070/3\t'--\t'--\t'--\t'--\t'--\t'--\t'--\t'--\t'--\t'--\t'--\tSquamous cell carcinoma, NOS\t'--\tno\tNo\tnot reported\t'--\t'--\t'--\tUpper lobe, lung\t'--\t'--\tNo\tUpper lobe, lung\t'--\t'--\t'--\t'--\tnot reported\t'--\t'--\tstage iia\t'--\t'--\t'--\t'--\t'--\t'--\t2011\t'--\t'--\t'--\t'--\t'--\t'--\t'--\t'--\t'--\t'--\t'--\t'--\t'--\t'--\t'--\t'--\tno\t'--\tRadiation Therapy, NOS\n",
      "\n",
      "3f1b4356-0b53-48cd-8938-96fc786c9b63\tTCGA-79-5596\tTCGA-LUSC\t'--\t'--\t'--\t'--\t'--\t'--\t'--\tnot reported\tmale\t'--\t'--\tnot reported\tAlive\t'--\t'--\t'--\t'--\t'--\t'--\t'--\t'--\tM0\tN1\tStage IIIA\tT3\t6th\t'--\t'--\t'--\t'--\t'--\t'--\t'--\t'--\t'--\t'--\t'--\tnot reported\t'--\t'--\t'--\t'--\t'--\t'--\t'--\t'--\t'--\t'--\t'--\t'--\t'--\t'--\t'--\t'--\t'--\t'--\t'--\t'--\t'--\t'--\t'--\t'--\t'--\t'--\tC34.1\t'--\t'--\t'--\t'--\t'--\t'--\t'--\t'--\t'--\t'--\t'--\tnot reported\t'--\t'--\t'--\t'--\t'--\t'--\t'--\t'--\t'--\t'--\t'--\t'--\t'--\t'--\t'--\t8070/3\t'--\t'--\t'--\t'--\t'--\t'--\t'--\t'--\t'--\t'--\t'--\tSquamous cell carcinoma, NOS\t'--\tno\tNo\tnot reported\t'--\t'--\t'--\tUpper lobe, lung\t'--\t'--\tNo\tUpper lobe, lung\t'--\t'--\t'--\t'--\tnot reported\t'--\t'--\tstage iiia\t'--\t'--\t'--\t'--\t'--\t'--\t2006\t'--\t'--\t'--\t'--\t'--\t'--\t'--\t'--\t'--\t'--\t'--\t'--\t'--\t'--\t'--\t'--\tno\t'--\tRadiation Therapy, NOS\n",
      "\n",
      "3f1b4356-0b53-48cd-8938-96fc786c9b63\tTCGA-79-5596\tTCGA-LUSC\t'--\t'--\t'--\t'--\t'--\t'--\t'--\tnot reported\tmale\t'--\t'--\tnot reported\tAlive\t'--\t'--\t'--\t'--\t'--\t'--\t'--\t'--\tM0\tN1\tStage IIIA\tT3\t6th\t'--\t'--\t'--\t'--\t'--\t'--\t'--\t'--\t'--\t'--\t'--\tnot reported\t'--\t'--\t'--\t'--\t'--\t'--\t'--\t'--\t'--\t'--\t'--\t'--\t'--\t'--\t'--\t'--\t'--\t'--\t'--\t'--\t'--\t'--\t'--\t'--\t'--\t'--\tC34.1\t'--\t'--\t'--\t'--\t'--\t'--\t'--\t'--\t'--\t'--\t'--\tnot reported\t'--\t'--\t'--\t'--\t'--\t'--\t'--\t'--\t'--\t'--\t'--\t'--\t'--\t'--\t'--\t8070/3\t'--\t'--\t'--\t'--\t'--\t'--\t'--\t'--\t'--\t'--\t'--\tSquamous cell carcinoma, NOS\t'--\tno\tNo\tnot reported\t'--\t'--\t'--\tUpper lobe, lung\t'--\t'--\tNo\tUpper lobe, lung\t'--\t'--\t'--\t'--\tnot reported\t'--\t'--\tstage iiia\t'--\t'--\t'--\t'--\t'--\t'--\t2006\t'--\t'--\t'--\t'--\t'--\t'--\t'--\t'--\t'--\t'--\t'--\t'--\t'--\t'--\t'--\t'--\tno\t'--\tPharmaceutical Therapy, NOS\n",
      "\n",
      "7625a27d-a012-4f4d-b637-5f85d7cdae8c\tTCGA-63-A5MU\tTCGA-LUSC\t48\t'--\t'--\t'--\t'--\t-17801\t'--\tnot reported\tmale\t'--\t'--\tnot reported\tDead\t'--\t'--\t'--\t17801\t'--\t'--\t'--\t'--\tM0\tN1\tStage IIB\tT2b\t7th\t'--\t'--\t'--\t'--\t'--\t'--\t'--\t'--\t'--\t'--\t'--\tnot reported\t'--\t'--\t'--\t'--\t'--\t'--\t'--\t'--\t'--\t'--\t'--\t'--\t'--\t'--\t'--\t'--\t'--\t'--\t'--\t'--\t'--\t'--\t'--\t'--\t'--\t'--\tC34.3\t'--\t'--\t'--\t'--\t'--\t'--\t'--\t'--\t'--\t'--\t'--\tnot reported\t'--\t'--\t'--\t'--\t'--\t'--\t'--\t'--\t'--\t'--\t'--\t'--\t'--\t'--\t'--\t8070/3\t'--\t'--\t'--\t'--\t'--\t'--\t'--\t'--\t'--\t'--\t'--\tSquamous cell carcinoma, NOS\t'--\tno\tNo\tnot reported\t'--\t'--\t'--\tLower lobe, lung\t'--\t'--\tNo\tLower lobe, lung\t'--\t'--\t'--\t'--\tnot reported\t'--\t'--\tstage iib\t'--\t'--\t'--\t'--\t'--\t'--\t'--\t'--\t'--\t'--\t'--\t'--\t'--\t'--\t'--\t'--\t'--\t'--\t'--\t'--\t'--\t'--\t'--\tyes\t'--\tPharmaceutical Therapy, NOS\n",
      "\n",
      "7625a27d-a012-4f4d-b637-5f85d7cdae8c\tTCGA-63-A5MU\tTCGA-LUSC\t48\t'--\t'--\t'--\t'--\t-17801\t'--\tnot reported\tmale\t'--\t'--\tnot reported\tDead\t'--\t'--\t'--\t17801\t'--\t'--\t'--\t'--\tM0\tN1\tStage IIB\tT2b\t7th\t'--\t'--\t'--\t'--\t'--\t'--\t'--\t'--\t'--\t'--\t'--\tnot reported\t'--\t'--\t'--\t'--\t'--\t'--\t'--\t'--\t'--\t'--\t'--\t'--\t'--\t'--\t'--\t'--\t'--\t'--\t'--\t'--\t'--\t'--\t'--\t'--\t'--\t'--\tC34.3\t'--\t'--\t'--\t'--\t'--\t'--\t'--\t'--\t'--\t'--\t'--\tnot reported\t'--\t'--\t'--\t'--\t'--\t'--\t'--\t'--\t'--\t'--\t'--\t'--\t'--\t'--\t'--\t8070/3\t'--\t'--\t'--\t'--\t'--\t'--\t'--\t'--\t'--\t'--\t'--\tSquamous cell carcinoma, NOS\t'--\tno\tNo\tnot reported\t'--\t'--\t'--\tLower lobe, lung\t'--\t'--\tNo\tLower lobe, lung\t'--\t'--\t'--\t'--\tnot reported\t'--\t'--\tstage iib\t'--\t'--\t'--\t'--\t'--\t'--\t'--\t'--\t'--\t'--\t'--\t'--\t'--\t'--\t'--\t'--\t'--\t'--\t'--\t'--\t'--\t'--\t'--\tno\t'--\tRadiation Therapy, NOS\n",
      "\n",
      "dce87821-a5cd-4415-ab0c-ac5ed2459929\tTCGA-63-5128\tTCGA-LUSC\t'--\t'--\t'--\t'--\t'--\t'--\t'--\tnot reported\tmale\t'--\t'--\tnot reported\tDead\t'--\t'--\t'--\t'--\t'--\t'--\t'--\t'--\tM0\tN0\tStage IB\tT2\t6th\t'--\t'--\t'--\t'--\t'--\t'--\t'--\t'--\t'--\t'--\t'--\tnot reported\t'--\t'--\t'--\t'--\t'--\t'--\t'--\t'--\t'--\t'--\t'--\t'--\t'--\t'--\t'--\t'--\t'--\t'--\t'--\t'--\t'--\t'--\t'--\t'--\t'--\t'--\tC34.1\t'--\t'--\t'--\t'--\t'--\t'--\t'--\t'--\t'--\t'--\t'--\tnot reported\t'--\t'--\t'--\t'--\t'--\t'--\t'--\t'--\t'--\t'--\t'--\t'--\t'--\t'--\t'--\t8070/3\t'--\t'--\t'--\t'--\t'--\t'--\t'--\t'--\t'--\t'--\t'--\tSquamous cell carcinoma, NOS\t'--\tno\tNo\tnot reported\t'--\t'--\t'--\tUpper lobe, lung\t'--\t'--\tNo\tUpper lobe, lung\t'--\t'--\t'--\t'--\tnot reported\t'--\t'--\tstage ib\t'--\t'--\t'--\t'--\t'--\t'--\t2007\t'--\t'--\t'--\t'--\t'--\t'--\t'--\t'--\t'--\t'--\t'--\t'--\t'--\t'--\t'--\t'--\tno\t'--\tPharmaceutical Therapy, NOS\n",
      "\n",
      "dce87821-a5cd-4415-ab0c-ac5ed2459929\tTCGA-63-5128\tTCGA-LUSC\t'--\t'--\t'--\t'--\t'--\t'--\t'--\tnot reported\tmale\t'--\t'--\tnot reported\tDead\t'--\t'--\t'--\t'--\t'--\t'--\t'--\t'--\tM0\tN0\tStage IB\tT2\t6th\t'--\t'--\t'--\t'--\t'--\t'--\t'--\t'--\t'--\t'--\t'--\tnot reported\t'--\t'--\t'--\t'--\t'--\t'--\t'--\t'--\t'--\t'--\t'--\t'--\t'--\t'--\t'--\t'--\t'--\t'--\t'--\t'--\t'--\t'--\t'--\t'--\t'--\t'--\tC34.1\t'--\t'--\t'--\t'--\t'--\t'--\t'--\t'--\t'--\t'--\t'--\tnot reported\t'--\t'--\t'--\t'--\t'--\t'--\t'--\t'--\t'--\t'--\t'--\t'--\t'--\t'--\t'--\t8070/3\t'--\t'--\t'--\t'--\t'--\t'--\t'--\t'--\t'--\t'--\t'--\tSquamous cell carcinoma, NOS\t'--\tno\tNo\tnot reported\t'--\t'--\t'--\tUpper lobe, lung\t'--\t'--\tNo\tUpper lobe, lung\t'--\t'--\t'--\t'--\tnot reported\t'--\t'--\tstage ib\t'--\t'--\t'--\t'--\t'--\t'--\t2007\t'--\t'--\t'--\t'--\t'--\t'--\t'--\t'--\t'--\t'--\t'--\t'--\t'--\t'--\t'--\t'--\tno\t'--\tRadiation Therapy, NOS\n",
      "\n",
      "7639fddb-86b5-45a1-bac3-ff6a575e0cf5\tTCGA-6A-AB49\tTCGA-LUSC\t73\t'--\t'--\t'--\t'--\t'--\t'--\tnot hispanic or latino\tfemale\t'--\t'--\tblack or african american\tDead\t'--\t1936\t'--\t'--\t'--\t'--\t'--\t'--\tMX\tN0\tStage IB\tT2\t6th\t'--\t'--\t'--\t'--\t'--\t'--\t'--\t'--\t'--\t'--\t'--\tnot reported\t'--\t'--\t'--\t'--\t'--\t0\t'--\t'--\t'--\t'--\t'--\t'--\t'--\t'--\t'--\t'--\t'--\t'--\t'--\t'--\t'--\t'--\t'--\t'--\t'--\t'--\tC34.3\t'--\t'--\t'--\t'--\t'--\t'--\t'--\t'--\t'--\t'--\t'--\tnot reported\t'--\t'--\t'--\t'--\t'--\t'--\t'--\t'--\t'--\t'--\t'--\t'--\t'--\t'--\t'--\t8070/3\t'--\t'--\t'--\t'--\t'--\t'--\t'--\t'--\t'--\t'--\t'--\tSquamous cell carcinoma, NOS\t'--\tno\tNo\tnot reported\t'--\t'--\t'--\tLower lobe, lung\t'--\t'--\tNo\tLower lobe, lung\t'--\t'--\t'--\t'--\tnot reported\t'--\t'--\tstage ib\t'--\t'--\t'--\t'--\t'--\t'--\t2009\t'--\t'--\t'--\t'--\t'--\t'--\t'--\t'--\t'--\t'--\t'--\t'--\t'--\t'--\t'--\t'--\tno\t'--\tPharmaceutical Therapy, NOS\n",
      "\n",
      "7639fddb-86b5-45a1-bac3-ff6a575e0cf5\tTCGA-6A-AB49\tTCGA-LUSC\t73\t'--\t'--\t'--\t'--\t'--\t'--\tnot hispanic or latino\tfemale\t'--\t'--\tblack or african american\tDead\t'--\t1936\t'--\t'--\t'--\t'--\t'--\t'--\tMX\tN0\tStage IB\tT2\t6th\t'--\t'--\t'--\t'--\t'--\t'--\t'--\t'--\t'--\t'--\t'--\tnot reported\t'--\t'--\t'--\t'--\t'--\t0\t'--\t'--\t'--\t'--\t'--\t'--\t'--\t'--\t'--\t'--\t'--\t'--\t'--\t'--\t'--\t'--\t'--\t'--\t'--\t'--\tC34.3\t'--\t'--\t'--\t'--\t'--\t'--\t'--\t'--\t'--\t'--\t'--\tnot reported\t'--\t'--\t'--\t'--\t'--\t'--\t'--\t'--\t'--\t'--\t'--\t'--\t'--\t'--\t'--\t8070/3\t'--\t'--\t'--\t'--\t'--\t'--\t'--\t'--\t'--\t'--\t'--\tSquamous cell carcinoma, NOS\t'--\tno\tNo\tnot reported\t'--\t'--\t'--\tLower lobe, lung\t'--\t'--\tNo\tLower lobe, lung\t'--\t'--\t'--\t'--\tnot reported\t'--\t'--\tstage ib\t'--\t'--\t'--\t'--\t'--\t'--\t2009\t'--\t'--\t'--\t'--\t'--\t'--\t'--\t'--\t'--\t'--\t'--\t'--\t'--\t'--\t'--\t'--\tno\t'--\tRadiation Therapy, NOS\n",
      "\n"
     ]
    }
   ],
   "source": [
    "import re\n",
    "with open('clinical.tsv') as f:\n",
    "    header, *lines = f.readlines()\n",
    "    data = {}\n",
    "    for line in lines:\n",
    "        cols = line.strip().split('\\t')\n",
    "        if cols[15] == 'Alive' and re.search(r'\\d+', cols[47]): #cols[47] days_to_last_follow_up\n",
    "            data.setdefault(cols[1], f'{int(cols[47]) // 30}\\t0') \n",
    "        elif cols[15] == 'Dead' and re.search(r'\\d+', cols[9]): #cols[9] days_to_death\n",
    "            data.setdefault(cols[1], f'{int(cols[9]) // 30}\\t1')\n",
    "        else:\n",
    "            print(line) #欠損値があれば出力する\n",
    "    \n",
    "with open('clinical_edited.tsv', 'w') as out:\n",
    "    print('T', 'E', sep='\\t', file=out)\n",
    "    for value in data.values():\n",
    "        print(value, file=out)  "
   ]
  },
  {
   "cell_type": "markdown",
   "metadata": {},
   "source": [
    "結構欠損値があるようです。  \n",
    "必要なデータだけ記載された`clinical_edited.tsv`ファイルが作成されました。"
   ]
  },
  {
   "cell_type": "code",
   "execution_count": 2,
   "metadata": {},
   "outputs": [],
   "source": [
    "import pandas as pd\n",
    "df = pd.read_table('clinical_edited.tsv')"
   ]
  },
  {
   "cell_type": "code",
   "execution_count": 3,
   "metadata": {},
   "outputs": [
    {
     "data": {
      "text/html": [
       "<div>\n",
       "<style scoped>\n",
       "    .dataframe tbody tr th:only-of-type {\n",
       "        vertical-align: middle;\n",
       "    }\n",
       "\n",
       "    .dataframe tbody tr th {\n",
       "        vertical-align: top;\n",
       "    }\n",
       "\n",
       "    .dataframe thead th {\n",
       "        text-align: right;\n",
       "    }\n",
       "</style>\n",
       "<table border=\"1\" class=\"dataframe\">\n",
       "  <thead>\n",
       "    <tr style=\"text-align: right;\">\n",
       "      <th></th>\n",
       "      <th>T</th>\n",
       "      <th>E</th>\n",
       "    </tr>\n",
       "  </thead>\n",
       "  <tbody>\n",
       "    <tr>\n",
       "      <th>0</th>\n",
       "      <td>112</td>\n",
       "      <td>0</td>\n",
       "    </tr>\n",
       "    <tr>\n",
       "      <th>1</th>\n",
       "      <td>27</td>\n",
       "      <td>1</td>\n",
       "    </tr>\n",
       "    <tr>\n",
       "      <th>2</th>\n",
       "      <td>90</td>\n",
       "      <td>0</td>\n",
       "    </tr>\n",
       "    <tr>\n",
       "      <th>3</th>\n",
       "      <td>19</td>\n",
       "      <td>0</td>\n",
       "    </tr>\n",
       "    <tr>\n",
       "      <th>4</th>\n",
       "      <td>120</td>\n",
       "      <td>1</td>\n",
       "    </tr>\n",
       "    <tr>\n",
       "      <th>...</th>\n",
       "      <td>...</td>\n",
       "      <td>...</td>\n",
       "    </tr>\n",
       "    <tr>\n",
       "      <th>486</th>\n",
       "      <td>22</td>\n",
       "      <td>1</td>\n",
       "    </tr>\n",
       "    <tr>\n",
       "      <th>487</th>\n",
       "      <td>18</td>\n",
       "      <td>0</td>\n",
       "    </tr>\n",
       "    <tr>\n",
       "      <th>488</th>\n",
       "      <td>34</td>\n",
       "      <td>0</td>\n",
       "    </tr>\n",
       "    <tr>\n",
       "      <th>489</th>\n",
       "      <td>5</td>\n",
       "      <td>1</td>\n",
       "    </tr>\n",
       "    <tr>\n",
       "      <th>490</th>\n",
       "      <td>45</td>\n",
       "      <td>0</td>\n",
       "    </tr>\n",
       "  </tbody>\n",
       "</table>\n",
       "<p>491 rows × 2 columns</p>\n",
       "</div>"
      ],
      "text/plain": [
       "       T  E\n",
       "0    112  0\n",
       "1     27  1\n",
       "2     90  0\n",
       "3     19  0\n",
       "4    120  1\n",
       "..   ... ..\n",
       "486   22  1\n",
       "487   18  0\n",
       "488   34  0\n",
       "489    5  1\n",
       "490   45  0\n",
       "\n",
       "[491 rows x 2 columns]"
      ]
     },
     "execution_count": 3,
     "metadata": {},
     "output_type": "execute_result"
    }
   ],
   "source": [
    "df"
   ]
  },
  {
   "cell_type": "code",
   "execution_count": 4,
   "metadata": {},
   "outputs": [],
   "source": [
    "T = df['T']\n",
    "E = df['E']"
   ]
  },
  {
   "cell_type": "code",
   "execution_count": 5,
   "metadata": {},
   "outputs": [
    {
     "data": {
      "text/plain": [
       "<AxesSubplot:xlabel='timeline'>"
      ]
     },
     "execution_count": 5,
     "metadata": {},
     "output_type": "execute_result"
    },
    {
     "data": {
      "image/png": "[encoded data removed]",
      "text/plain": [
       "<Figure size 432x288 with 1 Axes>"
      ]
     },
     "metadata": {
      "needs_background": "light"
     },
     "output_type": "display_data"
    }
   ],
   "source": [
    "from lifelines import KaplanMeierFitter\n",
    "kmf = KaplanMeierFitter()\n",
    "kmf.fit(T, event_observed=E, label='lung')\n",
    "kmf.survival_function_\n",
    "kmf.plot_survival_function()"
   ]
  },
  {
   "cell_type": "markdown",
   "metadata": {},
   "source": [
    "stageI, IIとstage III, IVで分けて曲線を書いてみます。  \n",
    "先ほどと同じように、必要なデータだけピックアップしたファイルを作成します。  \n",
    "> caseによってAJCCのeditionが異なるので、実際に使う際は注意してください。"
   ]
  },
  {
   "cell_type": "code",
   "execution_count": 6,
   "metadata": {},
   "outputs": [
    {
     "name": "stdout",
     "output_type": "stream",
     "text": [
      "68107725-a883-4b33-a366-d9b4adb18028\tTCGA-63-5131\tTCGA-LUSC\t'--\t'--\t'--\t'--\t'--\t'--\t'--\tnot reported\tmale\t'--\t'--\tnot reported\tDead\t'--\t'--\t'--\t'--\t'--\t'--\t'--\t'--\tM0\tN1\tStage IIB\tT2\t6th\t'--\t'--\t'--\t'--\t'--\t'--\t'--\t'--\t'--\t'--\t'--\tnot reported\t'--\t'--\t'--\t'--\t'--\t'--\t'--\t'--\t'--\t'--\t'--\t'--\t'--\t'--\t'--\t'--\t'--\t'--\t'--\t'--\t'--\t'--\t'--\t'--\t'--\t'--\tC34.9\t'--\t'--\t'--\t'--\t'--\t'--\t'--\t'--\t'--\t'--\t'--\tnot reported\t'--\t'--\t'--\t'--\t'--\t'--\t'--\t'--\t'--\t'--\t'--\t'--\t'--\t'--\t'--\t8070/3\t'--\t'--\t'--\t'--\t'--\t'--\t'--\t'--\t'--\t'--\t'--\tSquamous cell carcinoma, NOS\t'--\tno\tNo\tnot reported\t'--\t'--\t'--\tLung, NOS\t'--\t'--\tNo\tLung, NOS\t'--\t'--\t'--\t'--\tnot reported\t'--\t'--\tstage iib\t'--\t'--\t'--\t'--\t'--\t'--\t2008\t'--\t'--\t'--\t'--\t'--\t'--\t'--\t'--\t'--\t'--\t'--\t'--\t'--\t'--\t'--\t'--\tno\t'--\tRadiation Therapy, NOS\n",
      "\n",
      "68107725-a883-4b33-a366-d9b4adb18028\tTCGA-63-5131\tTCGA-LUSC\t'--\t'--\t'--\t'--\t'--\t'--\t'--\tnot reported\tmale\t'--\t'--\tnot reported\tDead\t'--\t'--\t'--\t'--\t'--\t'--\t'--\t'--\tM0\tN1\tStage IIB\tT2\t6th\t'--\t'--\t'--\t'--\t'--\t'--\t'--\t'--\t'--\t'--\t'--\tnot reported\t'--\t'--\t'--\t'--\t'--\t'--\t'--\t'--\t'--\t'--\t'--\t'--\t'--\t'--\t'--\t'--\t'--\t'--\t'--\t'--\t'--\t'--\t'--\t'--\t'--\t'--\tC34.9\t'--\t'--\t'--\t'--\t'--\t'--\t'--\t'--\t'--\t'--\t'--\tnot reported\t'--\t'--\t'--\t'--\t'--\t'--\t'--\t'--\t'--\t'--\t'--\t'--\t'--\t'--\t'--\t8070/3\t'--\t'--\t'--\t'--\t'--\t'--\t'--\t'--\t'--\t'--\t'--\tSquamous cell carcinoma, NOS\t'--\tno\tNo\tnot reported\t'--\t'--\t'--\tLung, NOS\t'--\t'--\tNo\tLung, NOS\t'--\t'--\t'--\t'--\tnot reported\t'--\t'--\tstage iib\t'--\t'--\t'--\t'--\t'--\t'--\t2008\t'--\t'--\t'--\t'--\t'--\t'--\t'--\t'--\t'--\t'--\t'--\t'--\t'--\t'--\t'--\t'--\tno\t'--\tPharmaceutical Therapy, NOS\n",
      "\n",
      "d566fa32-382b-499c-820a-c2bbb22501fb\tTCGA-56-6546\tTCGA-LUSC\t67\t'--\t'--\t'--\t'--\t-24594\t'--\tnot hispanic or latino\tmale\t'--\t'--\twhite\tDead\t'--\t1944\t'--\t24594\t'--\t'--\t'--\t'--\tMX\tN0\tStage IIA\tT2b\t7th\t'--\t'--\t'--\t'--\t'--\t'--\t'--\t'--\t'--\t'--\t'--\tnot reported\t'--\t'--\t'--\t'--\t'--\t0\t'--\t'--\t'--\t'--\t'--\t'--\t'--\t'--\t'--\t'--\t'--\t'--\t'--\t'--\t'--\t'--\t'--\t'--\t'--\t'--\tC34.1\t'--\t'--\t'--\t'--\t'--\t'--\t'--\t'--\t'--\t'--\t'--\tnot reported\t'--\t'--\t'--\t'--\t'--\t'--\t'--\t'--\t'--\t'--\t'--\t'--\t'--\t'--\t'--\t8070/3\t'--\t'--\t'--\t'--\t'--\t'--\t'--\t'--\t'--\t'--\t'--\tSquamous cell carcinoma, NOS\t'--\tno\tNo\tnot reported\t'--\t'--\t'--\tUpper lobe, lung\t'--\t'--\tNo\tUpper lobe, lung\t'--\t'--\t'--\t'--\tnot reported\t'--\t'--\tstage iia\t'--\t'--\t'--\t'--\t'--\t'--\t2011\t'--\t'--\t'--\t'--\t'--\t'--\t'--\t'--\t'--\t'--\t'--\t'--\t'--\t'--\t'--\t'--\tno\t'--\tPharmaceutical Therapy, NOS\n",
      "\n",
      "d566fa32-382b-499c-820a-c2bbb22501fb\tTCGA-56-6546\tTCGA-LUSC\t67\t'--\t'--\t'--\t'--\t-24594\t'--\tnot hispanic or latino\tmale\t'--\t'--\twhite\tDead\t'--\t1944\t'--\t24594\t'--\t'--\t'--\t'--\tMX\tN0\tStage IIA\tT2b\t7th\t'--\t'--\t'--\t'--\t'--\t'--\t'--\t'--\t'--\t'--\t'--\tnot reported\t'--\t'--\t'--\t'--\t'--\t0\t'--\t'--\t'--\t'--\t'--\t'--\t'--\t'--\t'--\t'--\t'--\t'--\t'--\t'--\t'--\t'--\t'--\t'--\t'--\t'--\tC34.1\t'--\t'--\t'--\t'--\t'--\t'--\t'--\t'--\t'--\t'--\t'--\tnot reported\t'--\t'--\t'--\t'--\t'--\t'--\t'--\t'--\t'--\t'--\t'--\t'--\t'--\t'--\t'--\t8070/3\t'--\t'--\t'--\t'--\t'--\t'--\t'--\t'--\t'--\t'--\t'--\tSquamous cell carcinoma, NOS\t'--\tno\tNo\tnot reported\t'--\t'--\t'--\tUpper lobe, lung\t'--\t'--\tNo\tUpper lobe, lung\t'--\t'--\t'--\t'--\tnot reported\t'--\t'--\tstage iia\t'--\t'--\t'--\t'--\t'--\t'--\t2011\t'--\t'--\t'--\t'--\t'--\t'--\t'--\t'--\t'--\t'--\t'--\t'--\t'--\t'--\t'--\t'--\tno\t'--\tRadiation Therapy, NOS\n",
      "\n",
      "3f1b4356-0b53-48cd-8938-96fc786c9b63\tTCGA-79-5596\tTCGA-LUSC\t'--\t'--\t'--\t'--\t'--\t'--\t'--\tnot reported\tmale\t'--\t'--\tnot reported\tAlive\t'--\t'--\t'--\t'--\t'--\t'--\t'--\t'--\tM0\tN1\tStage IIIA\tT3\t6th\t'--\t'--\t'--\t'--\t'--\t'--\t'--\t'--\t'--\t'--\t'--\tnot reported\t'--\t'--\t'--\t'--\t'--\t'--\t'--\t'--\t'--\t'--\t'--\t'--\t'--\t'--\t'--\t'--\t'--\t'--\t'--\t'--\t'--\t'--\t'--\t'--\t'--\t'--\tC34.1\t'--\t'--\t'--\t'--\t'--\t'--\t'--\t'--\t'--\t'--\t'--\tnot reported\t'--\t'--\t'--\t'--\t'--\t'--\t'--\t'--\t'--\t'--\t'--\t'--\t'--\t'--\t'--\t8070/3\t'--\t'--\t'--\t'--\t'--\t'--\t'--\t'--\t'--\t'--\t'--\tSquamous cell carcinoma, NOS\t'--\tno\tNo\tnot reported\t'--\t'--\t'--\tUpper lobe, lung\t'--\t'--\tNo\tUpper lobe, lung\t'--\t'--\t'--\t'--\tnot reported\t'--\t'--\tstage iiia\t'--\t'--\t'--\t'--\t'--\t'--\t2006\t'--\t'--\t'--\t'--\t'--\t'--\t'--\t'--\t'--\t'--\t'--\t'--\t'--\t'--\t'--\t'--\tno\t'--\tRadiation Therapy, NOS\n",
      "\n",
      "3f1b4356-0b53-48cd-8938-96fc786c9b63\tTCGA-79-5596\tTCGA-LUSC\t'--\t'--\t'--\t'--\t'--\t'--\t'--\tnot reported\tmale\t'--\t'--\tnot reported\tAlive\t'--\t'--\t'--\t'--\t'--\t'--\t'--\t'--\tM0\tN1\tStage IIIA\tT3\t6th\t'--\t'--\t'--\t'--\t'--\t'--\t'--\t'--\t'--\t'--\t'--\tnot reported\t'--\t'--\t'--\t'--\t'--\t'--\t'--\t'--\t'--\t'--\t'--\t'--\t'--\t'--\t'--\t'--\t'--\t'--\t'--\t'--\t'--\t'--\t'--\t'--\t'--\t'--\tC34.1\t'--\t'--\t'--\t'--\t'--\t'--\t'--\t'--\t'--\t'--\t'--\tnot reported\t'--\t'--\t'--\t'--\t'--\t'--\t'--\t'--\t'--\t'--\t'--\t'--\t'--\t'--\t'--\t8070/3\t'--\t'--\t'--\t'--\t'--\t'--\t'--\t'--\t'--\t'--\t'--\tSquamous cell carcinoma, NOS\t'--\tno\tNo\tnot reported\t'--\t'--\t'--\tUpper lobe, lung\t'--\t'--\tNo\tUpper lobe, lung\t'--\t'--\t'--\t'--\tnot reported\t'--\t'--\tstage iiia\t'--\t'--\t'--\t'--\t'--\t'--\t2006\t'--\t'--\t'--\t'--\t'--\t'--\t'--\t'--\t'--\t'--\t'--\t'--\t'--\t'--\t'--\t'--\tno\t'--\tPharmaceutical Therapy, NOS\n",
      "\n",
      "7625a27d-a012-4f4d-b637-5f85d7cdae8c\tTCGA-63-A5MU\tTCGA-LUSC\t48\t'--\t'--\t'--\t'--\t-17801\t'--\tnot reported\tmale\t'--\t'--\tnot reported\tDead\t'--\t'--\t'--\t17801\t'--\t'--\t'--\t'--\tM0\tN1\tStage IIB\tT2b\t7th\t'--\t'--\t'--\t'--\t'--\t'--\t'--\t'--\t'--\t'--\t'--\tnot reported\t'--\t'--\t'--\t'--\t'--\t'--\t'--\t'--\t'--\t'--\t'--\t'--\t'--\t'--\t'--\t'--\t'--\t'--\t'--\t'--\t'--\t'--\t'--\t'--\t'--\t'--\tC34.3\t'--\t'--\t'--\t'--\t'--\t'--\t'--\t'--\t'--\t'--\t'--\tnot reported\t'--\t'--\t'--\t'--\t'--\t'--\t'--\t'--\t'--\t'--\t'--\t'--\t'--\t'--\t'--\t8070/3\t'--\t'--\t'--\t'--\t'--\t'--\t'--\t'--\t'--\t'--\t'--\tSquamous cell carcinoma, NOS\t'--\tno\tNo\tnot reported\t'--\t'--\t'--\tLower lobe, lung\t'--\t'--\tNo\tLower lobe, lung\t'--\t'--\t'--\t'--\tnot reported\t'--\t'--\tstage iib\t'--\t'--\t'--\t'--\t'--\t'--\t'--\t'--\t'--\t'--\t'--\t'--\t'--\t'--\t'--\t'--\t'--\t'--\t'--\t'--\t'--\t'--\t'--\tyes\t'--\tPharmaceutical Therapy, NOS\n",
      "\n",
      "7625a27d-a012-4f4d-b637-5f85d7cdae8c\tTCGA-63-A5MU\tTCGA-LUSC\t48\t'--\t'--\t'--\t'--\t-17801\t'--\tnot reported\tmale\t'--\t'--\tnot reported\tDead\t'--\t'--\t'--\t17801\t'--\t'--\t'--\t'--\tM0\tN1\tStage IIB\tT2b\t7th\t'--\t'--\t'--\t'--\t'--\t'--\t'--\t'--\t'--\t'--\t'--\tnot reported\t'--\t'--\t'--\t'--\t'--\t'--\t'--\t'--\t'--\t'--\t'--\t'--\t'--\t'--\t'--\t'--\t'--\t'--\t'--\t'--\t'--\t'--\t'--\t'--\t'--\t'--\tC34.3\t'--\t'--\t'--\t'--\t'--\t'--\t'--\t'--\t'--\t'--\t'--\tnot reported\t'--\t'--\t'--\t'--\t'--\t'--\t'--\t'--\t'--\t'--\t'--\t'--\t'--\t'--\t'--\t8070/3\t'--\t'--\t'--\t'--\t'--\t'--\t'--\t'--\t'--\t'--\t'--\tSquamous cell carcinoma, NOS\t'--\tno\tNo\tnot reported\t'--\t'--\t'--\tLower lobe, lung\t'--\t'--\tNo\tLower lobe, lung\t'--\t'--\t'--\t'--\tnot reported\t'--\t'--\tstage iib\t'--\t'--\t'--\t'--\t'--\t'--\t'--\t'--\t'--\t'--\t'--\t'--\t'--\t'--\t'--\t'--\t'--\t'--\t'--\t'--\t'--\t'--\t'--\tno\t'--\tRadiation Therapy, NOS\n",
      "\n",
      "d38dbe20-bd5a-45d5-8db3-d5f777b454b6\tTCGA-46-3769\tTCGA-LUSC\t57\t'--\t'--\t'--\t'--\t-20941\t'--\tnot hispanic or latino\tmale\t'--\t'--\twhite\tAlive\t'--\t1952\t'--\t20941\t'--\t'--\t'--\t'--\tM0\tN0\t'--\tT4\t'--\t'--\t'--\t'--\t'--\t'--\t'--\t'--\t'--\t'--\t'--\t'--\tnot reported\t'--\t'--\t'--\t'--\t'--\t0\t135\t'--\t'--\t'--\t'--\t'--\t'--\t'--\t'--\t'--\t'--\t'--\t'--\t'--\t'--\t'--\t'--\t'--\t'--\t'--\tC34.1\t'--\t'--\t'--\t'--\t'--\t'--\t'--\t'--\t'--\t'--\t'--\tnot reported\t'--\t'--\t'--\t'--\t'--\t'--\t'--\t'--\t'--\t'--\t'--\t'--\t'--\t'--\t'--\t8070/3\t'--\t'--\t'--\t'--\t'--\t'--\t'--\t'--\t'--\t'--\t'--\tSquamous cell carcinoma, NOS\t'--\tno\tNo\tnot reported\t'--\t'--\t'--\tUpper lobe, lung\t'--\t'--\tNo\tUpper lobe, lung\t'--\t'--\t'--\t'--\tnot reported\t'--\t'--\tnot reported\t'--\t'--\t'--\t'--\t'--\t'--\t2009\t'--\t'--\t'--\t'--\t'--\t'--\t'--\t'--\t'--\t'--\t'--\t'--\t'--\t'--\t'--\t'--\tyes\t'--\tPharmaceutical Therapy, NOS\n",
      "\n",
      "d38dbe20-bd5a-45d5-8db3-d5f777b454b6\tTCGA-46-3769\tTCGA-LUSC\t57\t'--\t'--\t'--\t'--\t-20941\t'--\tnot hispanic or latino\tmale\t'--\t'--\twhite\tAlive\t'--\t1952\t'--\t20941\t'--\t'--\t'--\t'--\tM0\tN0\t'--\tT4\t'--\t'--\t'--\t'--\t'--\t'--\t'--\t'--\t'--\t'--\t'--\t'--\tnot reported\t'--\t'--\t'--\t'--\t'--\t0\t135\t'--\t'--\t'--\t'--\t'--\t'--\t'--\t'--\t'--\t'--\t'--\t'--\t'--\t'--\t'--\t'--\t'--\t'--\t'--\tC34.1\t'--\t'--\t'--\t'--\t'--\t'--\t'--\t'--\t'--\t'--\t'--\tnot reported\t'--\t'--\t'--\t'--\t'--\t'--\t'--\t'--\t'--\t'--\t'--\t'--\t'--\t'--\t'--\t8070/3\t'--\t'--\t'--\t'--\t'--\t'--\t'--\t'--\t'--\t'--\t'--\tSquamous cell carcinoma, NOS\t'--\tno\tNo\tnot reported\t'--\t'--\t'--\tUpper lobe, lung\t'--\t'--\tNo\tUpper lobe, lung\t'--\t'--\t'--\t'--\tnot reported\t'--\t'--\tnot reported\t'--\t'--\t'--\t'--\t'--\t'--\t2009\t'--\t'--\t'--\t'--\t'--\t'--\t'--\t'--\t'--\t'--\t'--\t'--\t'--\t'--\t'--\t'--\tyes\t'--\tRadiation Therapy, NOS\n",
      "\n",
      "dce87821-a5cd-4415-ab0c-ac5ed2459929\tTCGA-63-5128\tTCGA-LUSC\t'--\t'--\t'--\t'--\t'--\t'--\t'--\tnot reported\tmale\t'--\t'--\tnot reported\tDead\t'--\t'--\t'--\t'--\t'--\t'--\t'--\t'--\tM0\tN0\tStage IB\tT2\t6th\t'--\t'--\t'--\t'--\t'--\t'--\t'--\t'--\t'--\t'--\t'--\tnot reported\t'--\t'--\t'--\t'--\t'--\t'--\t'--\t'--\t'--\t'--\t'--\t'--\t'--\t'--\t'--\t'--\t'--\t'--\t'--\t'--\t'--\t'--\t'--\t'--\t'--\t'--\tC34.1\t'--\t'--\t'--\t'--\t'--\t'--\t'--\t'--\t'--\t'--\t'--\tnot reported\t'--\t'--\t'--\t'--\t'--\t'--\t'--\t'--\t'--\t'--\t'--\t'--\t'--\t'--\t'--\t8070/3\t'--\t'--\t'--\t'--\t'--\t'--\t'--\t'--\t'--\t'--\t'--\tSquamous cell carcinoma, NOS\t'--\tno\tNo\tnot reported\t'--\t'--\t'--\tUpper lobe, lung\t'--\t'--\tNo\tUpper lobe, lung\t'--\t'--\t'--\t'--\tnot reported\t'--\t'--\tstage ib\t'--\t'--\t'--\t'--\t'--\t'--\t2007\t'--\t'--\t'--\t'--\t'--\t'--\t'--\t'--\t'--\t'--\t'--\t'--\t'--\t'--\t'--\t'--\tno\t'--\tPharmaceutical Therapy, NOS\n",
      "\n",
      "dce87821-a5cd-4415-ab0c-ac5ed2459929\tTCGA-63-5128\tTCGA-LUSC\t'--\t'--\t'--\t'--\t'--\t'--\t'--\tnot reported\tmale\t'--\t'--\tnot reported\tDead\t'--\t'--\t'--\t'--\t'--\t'--\t'--\t'--\tM0\tN0\tStage IB\tT2\t6th\t'--\t'--\t'--\t'--\t'--\t'--\t'--\t'--\t'--\t'--\t'--\tnot reported\t'--\t'--\t'--\t'--\t'--\t'--\t'--\t'--\t'--\t'--\t'--\t'--\t'--\t'--\t'--\t'--\t'--\t'--\t'--\t'--\t'--\t'--\t'--\t'--\t'--\t'--\tC34.1\t'--\t'--\t'--\t'--\t'--\t'--\t'--\t'--\t'--\t'--\t'--\tnot reported\t'--\t'--\t'--\t'--\t'--\t'--\t'--\t'--\t'--\t'--\t'--\t'--\t'--\t'--\t'--\t8070/3\t'--\t'--\t'--\t'--\t'--\t'--\t'--\t'--\t'--\t'--\t'--\tSquamous cell carcinoma, NOS\t'--\tno\tNo\tnot reported\t'--\t'--\t'--\tUpper lobe, lung\t'--\t'--\tNo\tUpper lobe, lung\t'--\t'--\t'--\t'--\tnot reported\t'--\t'--\tstage ib\t'--\t'--\t'--\t'--\t'--\t'--\t2007\t'--\t'--\t'--\t'--\t'--\t'--\t'--\t'--\t'--\t'--\t'--\t'--\t'--\t'--\t'--\t'--\tno\t'--\tRadiation Therapy, NOS\n",
      "\n",
      "eea9575a-c842-4a95-9e47-3a3b12533f25\tTCGA-22-5473\tTCGA-LUSC\t78\t'--\t'--\t'--\t'--\t-28826\t1933\tnot hispanic or latino\tmale\t'--\t'--\twhite\tDead\t'--\t1927\t2010\t28826\t'--\t'--\t'--\t'--\tM0\tN0\t'--\tT3\t'--\t'--\t'--\t'--\t'--\t'--\t'--\t'--\t'--\t'--\t'--\t'--\tnot reported\t'--\t'--\t'--\t'--\t'--\t0\t'--\t'--\t'--\t'--\t'--\t'--\t'--\t'--\t'--\t'--\t'--\t'--\t'--\t'--\t'--\t'--\t'--\t'--\t'--\t'--\tC34.3\t'--\t'--\t'--\t'--\t'--\t'--\t'--\t'--\t'--\t'--\t'--\tnot reported\t'--\t'--\t'--\t'--\t'--\t'--\t'--\t'--\t'--\t'--\t'--\t'--\t'--\t'--\t'--\t8070/3\t'--\t'--\t'--\t'--\t'--\t'--\t'--\t'--\t'--\t'--\t'--\tSquamous cell carcinoma, NOS\t'--\tno\tNo\tnot reported\t'--\t'--\t'--\tLower lobe, lung\t'--\t'--\tNo\tLower lobe, lung\t'--\t'--\t'--\t'--\tnot reported\t'--\t'--\tnot reported\t'--\t'--\t'--\t'--\t'--\t'--\t2005\t'--\t'--\t'--\t'--\t'--\t'--\t'--\t'--\t'--\t'--\t'--\t'--\t'--\t'--\t'--\t'--\tno\t'--\tRadiation Therapy, NOS\n",
      "\n",
      "eea9575a-c842-4a95-9e47-3a3b12533f25\tTCGA-22-5473\tTCGA-LUSC\t78\t'--\t'--\t'--\t'--\t-28826\t1933\tnot hispanic or latino\tmale\t'--\t'--\twhite\tDead\t'--\t1927\t2010\t28826\t'--\t'--\t'--\t'--\tM0\tN0\t'--\tT3\t'--\t'--\t'--\t'--\t'--\t'--\t'--\t'--\t'--\t'--\t'--\t'--\tnot reported\t'--\t'--\t'--\t'--\t'--\t0\t'--\t'--\t'--\t'--\t'--\t'--\t'--\t'--\t'--\t'--\t'--\t'--\t'--\t'--\t'--\t'--\t'--\t'--\t'--\t'--\tC34.3\t'--\t'--\t'--\t'--\t'--\t'--\t'--\t'--\t'--\t'--\t'--\tnot reported\t'--\t'--\t'--\t'--\t'--\t'--\t'--\t'--\t'--\t'--\t'--\t'--\t'--\t'--\t'--\t8070/3\t'--\t'--\t'--\t'--\t'--\t'--\t'--\t'--\t'--\t'--\t'--\tSquamous cell carcinoma, NOS\t'--\tno\tNo\tnot reported\t'--\t'--\t'--\tLower lobe, lung\t'--\t'--\tNo\tLower lobe, lung\t'--\t'--\t'--\t'--\tnot reported\t'--\t'--\tnot reported\t'--\t'--\t'--\t'--\t'--\t'--\t2005\t'--\t'--\t'--\t'--\t'--\t'--\t'--\t'--\t'--\t'--\t'--\t'--\t'--\t'--\t'--\t'--\tyes\t'--\tPharmaceutical Therapy, NOS\n",
      "\n",
      "81b7cbc1-c037-426f-95b0-d729a30697da\tTCGA-52-7812\tTCGA-LUSC\t68\t'--\t'--\t'--\t'--\t-24887\t835\thispanic or latino\tmale\t'--\t'--\twhite\tDead\t'--\t1941\t2011\t24887\t'--\t'--\t'--\t'--\tM0\tN2\t'--\tT2\t6th\t'--\t'--\t'--\t'--\t'--\t'--\t'--\t'--\t'--\t'--\t'--\tnot reported\t'--\t'--\t'--\t'--\t'--\t0\t'--\t'--\t'--\t'--\t'--\t'--\t'--\t'--\t'--\t'--\t'--\t'--\t'--\t'--\t'--\t'--\t'--\t'--\t'--\t'--\tC34.9\t'--\t'--\t'--\t'--\t'--\t'--\t'--\t'--\t'--\t'--\t'--\tnot reported\t'--\t'--\t'--\t'--\t'--\t'--\t'--\t'--\t'--\t'--\t'--\t'--\t'--\t'--\t'--\t8070/3\t'--\t'--\t'--\t'--\t'--\t'--\t'--\t'--\t'--\t'--\t'--\tSquamous cell carcinoma, NOS\t'--\tno\tNo\tnot reported\t'--\t'--\t'--\tLung, NOS\t'--\t'--\tNo\tLung, NOS\t'--\t'--\t'--\t'--\tnot reported\t'--\t'--\tnot reported\t'--\t'--\t'--\t'--\t'--\t'--\t2009\t'--\t'--\t'--\t'--\t'--\t'--\t'--\t'--\t'--\t'--\t'--\t'--\t'--\t'--\t'--\t'--\tyes\t'--\tPharmaceutical Therapy, NOS\n",
      "\n",
      "81b7cbc1-c037-426f-95b0-d729a30697da\tTCGA-52-7812\tTCGA-LUSC\t68\t'--\t'--\t'--\t'--\t-24887\t835\thispanic or latino\tmale\t'--\t'--\twhite\tDead\t'--\t1941\t2011\t24887\t'--\t'--\t'--\t'--\tM0\tN2\t'--\tT2\t6th\t'--\t'--\t'--\t'--\t'--\t'--\t'--\t'--\t'--\t'--\t'--\tnot reported\t'--\t'--\t'--\t'--\t'--\t0\t'--\t'--\t'--\t'--\t'--\t'--\t'--\t'--\t'--\t'--\t'--\t'--\t'--\t'--\t'--\t'--\t'--\t'--\t'--\t'--\tC34.9\t'--\t'--\t'--\t'--\t'--\t'--\t'--\t'--\t'--\t'--\t'--\tnot reported\t'--\t'--\t'--\t'--\t'--\t'--\t'--\t'--\t'--\t'--\t'--\t'--\t'--\t'--\t'--\t8070/3\t'--\t'--\t'--\t'--\t'--\t'--\t'--\t'--\t'--\t'--\t'--\tSquamous cell carcinoma, NOS\t'--\tno\tNo\tnot reported\t'--\t'--\t'--\tLung, NOS\t'--\t'--\tNo\tLung, NOS\t'--\t'--\t'--\t'--\tnot reported\t'--\t'--\tnot reported\t'--\t'--\t'--\t'--\t'--\t'--\t2009\t'--\t'--\t'--\t'--\t'--\t'--\t'--\t'--\t'--\t'--\t'--\t'--\t'--\t'--\t'--\t'--\tyes\t'--\tRadiation Therapy, NOS\n",
      "\n",
      "7639fddb-86b5-45a1-bac3-ff6a575e0cf5\tTCGA-6A-AB49\tTCGA-LUSC\t73\t'--\t'--\t'--\t'--\t'--\t'--\tnot hispanic or latino\tfemale\t'--\t'--\tblack or african american\tDead\t'--\t1936\t'--\t'--\t'--\t'--\t'--\t'--\tMX\tN0\tStage IB\tT2\t6th\t'--\t'--\t'--\t'--\t'--\t'--\t'--\t'--\t'--\t'--\t'--\tnot reported\t'--\t'--\t'--\t'--\t'--\t0\t'--\t'--\t'--\t'--\t'--\t'--\t'--\t'--\t'--\t'--\t'--\t'--\t'--\t'--\t'--\t'--\t'--\t'--\t'--\t'--\tC34.3\t'--\t'--\t'--\t'--\t'--\t'--\t'--\t'--\t'--\t'--\t'--\tnot reported\t'--\t'--\t'--\t'--\t'--\t'--\t'--\t'--\t'--\t'--\t'--\t'--\t'--\t'--\t'--\t8070/3\t'--\t'--\t'--\t'--\t'--\t'--\t'--\t'--\t'--\t'--\t'--\tSquamous cell carcinoma, NOS\t'--\tno\tNo\tnot reported\t'--\t'--\t'--\tLower lobe, lung\t'--\t'--\tNo\tLower lobe, lung\t'--\t'--\t'--\t'--\tnot reported\t'--\t'--\tstage ib\t'--\t'--\t'--\t'--\t'--\t'--\t2009\t'--\t'--\t'--\t'--\t'--\t'--\t'--\t'--\t'--\t'--\t'--\t'--\t'--\t'--\t'--\t'--\tno\t'--\tPharmaceutical Therapy, NOS\n",
      "\n",
      "7639fddb-86b5-45a1-bac3-ff6a575e0cf5\tTCGA-6A-AB49\tTCGA-LUSC\t73\t'--\t'--\t'--\t'--\t'--\t'--\tnot hispanic or latino\tfemale\t'--\t'--\tblack or african american\tDead\t'--\t1936\t'--\t'--\t'--\t'--\t'--\t'--\tMX\tN0\tStage IB\tT2\t6th\t'--\t'--\t'--\t'--\t'--\t'--\t'--\t'--\t'--\t'--\t'--\tnot reported\t'--\t'--\t'--\t'--\t'--\t0\t'--\t'--\t'--\t'--\t'--\t'--\t'--\t'--\t'--\t'--\t'--\t'--\t'--\t'--\t'--\t'--\t'--\t'--\t'--\t'--\tC34.3\t'--\t'--\t'--\t'--\t'--\t'--\t'--\t'--\t'--\t'--\t'--\tnot reported\t'--\t'--\t'--\t'--\t'--\t'--\t'--\t'--\t'--\t'--\t'--\t'--\t'--\t'--\t'--\t8070/3\t'--\t'--\t'--\t'--\t'--\t'--\t'--\t'--\t'--\t'--\t'--\tSquamous cell carcinoma, NOS\t'--\tno\tNo\tnot reported\t'--\t'--\t'--\tLower lobe, lung\t'--\t'--\tNo\tLower lobe, lung\t'--\t'--\t'--\t'--\tnot reported\t'--\t'--\tstage ib\t'--\t'--\t'--\t'--\t'--\t'--\t2009\t'--\t'--\t'--\t'--\t'--\t'--\t'--\t'--\t'--\t'--\t'--\t'--\t'--\t'--\t'--\t'--\tno\t'--\tRadiation Therapy, NOS\n",
      "\n",
      "dc6ceece-efaa-4b9d-9e12-d35863d7a902\tTCGA-92-8064\tTCGA-LUSC\t58\t'--\t'--\t'--\t'--\t-21417\t'--\tnot hispanic or latino\tmale\t'--\t'--\twhite\tAlive\t'--\t1953\t'--\t21417\t'--\t'--\t'--\t'--\tMX\tN0\t'--\tT2b\t7th\t'--\t'--\t'--\t'--\t'--\t'--\t'--\t'--\t'--\t'--\t'--\tnot reported\t'--\t'--\t'--\t'--\t'--\t0\t160\t'--\t'--\t'--\t'--\t'--\t'--\t'--\t'--\t'--\t'--\t'--\t'--\t'--\t'--\t'--\t'--\t'--\t'--\t'--\tC34.1\t'--\t'--\t'--\t'--\t'--\t'--\t'--\t'--\t'--\t'--\t'--\tnot reported\t'--\t'--\t'--\t'--\t'--\t'--\t'--\t'--\t'--\t'--\t'--\t'--\t'--\t'--\t'--\t8070/3\t'--\t'--\t'--\t'--\t'--\t'--\t'--\t'--\t'--\t'--\t'--\tSquamous cell carcinoma, NOS\t'--\tno\tNo\tnot reported\t'--\t'--\t'--\tUpper lobe, lung\t'--\t'--\tNo\tUpper lobe, lung\t'--\t'--\t'--\t'--\tnot reported\t'--\t'--\tnot reported\t'--\t'--\t'--\t'--\t'--\t'--\t2011\t'--\t'--\t'--\t'--\t'--\t'--\t'--\t'--\t'--\t'--\t'--\t'--\t'--\t'--\t'--\t'--\tno\t'--\tRadiation Therapy, NOS\n",
      "\n",
      "dc6ceece-efaa-4b9d-9e12-d35863d7a902\tTCGA-92-8064\tTCGA-LUSC\t58\t'--\t'--\t'--\t'--\t-21417\t'--\tnot hispanic or latino\tmale\t'--\t'--\twhite\tAlive\t'--\t1953\t'--\t21417\t'--\t'--\t'--\t'--\tMX\tN0\t'--\tT2b\t7th\t'--\t'--\t'--\t'--\t'--\t'--\t'--\t'--\t'--\t'--\t'--\tnot reported\t'--\t'--\t'--\t'--\t'--\t0\t160\t'--\t'--\t'--\t'--\t'--\t'--\t'--\t'--\t'--\t'--\t'--\t'--\t'--\t'--\t'--\t'--\t'--\t'--\t'--\tC34.1\t'--\t'--\t'--\t'--\t'--\t'--\t'--\t'--\t'--\t'--\t'--\tnot reported\t'--\t'--\t'--\t'--\t'--\t'--\t'--\t'--\t'--\t'--\t'--\t'--\t'--\t'--\t'--\t8070/3\t'--\t'--\t'--\t'--\t'--\t'--\t'--\t'--\t'--\t'--\t'--\tSquamous cell carcinoma, NOS\t'--\tno\tNo\tnot reported\t'--\t'--\t'--\tUpper lobe, lung\t'--\t'--\tNo\tUpper lobe, lung\t'--\t'--\t'--\t'--\tnot reported\t'--\t'--\tnot reported\t'--\t'--\t'--\t'--\t'--\t'--\t2011\t'--\t'--\t'--\t'--\t'--\t'--\t'--\t'--\t'--\t'--\t'--\t'--\t'--\t'--\t'--\t'--\tyes\t'--\tPharmaceutical Therapy, NOS\n",
      "\n"
     ]
    }
   ],
   "source": [
    "with open('clinical.tsv') as f:\n",
    "    header, *lines = f.readlines()\n",
    "    data = {}\n",
    "    for line in lines:\n",
    "        cols = line.strip().split('\\t')\n",
    "        if cols[15] == 'Alive' and re.search(r'\\d+', cols[47]): #cols[47] days_to_last_follow_up\n",
    "            if match := re.match('Stage (\\w+)', cols[26]): #ウォルラス演算子 python3.8以降\n",
    "                stage = match.group(1)\n",
    "                if stage == 'I' or stage == 'IA' or stage == 'IB' or stage == 'II' or stage == 'IIA' or stage == 'IIB':\n",
    "                    data.setdefault(cols[1], f'{int(cols[47]) // 30}\\t0\\tstageI-II') \n",
    "                else:\n",
    "                    data.setdefault(cols[1], f'{int(cols[47]) // 30}\\t0\\tstageIII-IV') \n",
    "            else:\n",
    "                print(line) #欠損値を出力\n",
    "                \n",
    "        elif cols[15] == 'Dead' and re.search(r'\\d+', cols[9]): #cols[9] days_to_death\n",
    "            if match := re.match('Stage (\\w+)', cols[26]):\n",
    "                stage = match.group(1)\n",
    "                if stage == 'I' or stage == 'IA' or stage == 'IB' or stage == 'II' or stage == 'IIA' or stage == 'IIB':\n",
    "                    data.setdefault(cols[1], f'{int(cols[9]) // 30}\\t1\\tstageI-II') \n",
    "                else:\n",
    "                    data.setdefault(cols[1], f'{int(cols[9]) // 30}\\t1\\tstageIII-IV') \n",
    "            else:\n",
    "                print(line) #欠損値を出力\n",
    "        else:\n",
    "            print(line) #欠損値を出力\n",
    "    \n",
    "with open('clinical_group.tsv', 'w') as out:\n",
    "    print('T', 'E', 'group', sep='\\t', file=out)\n",
    "    for value in data.values():\n",
    "        print(value, file=out)  "
   ]
  },
  {
   "cell_type": "markdown",
   "metadata": {},
   "source": [
    "`clinical_group.tsv`ファイルが作成されました。  \n",
    "KaplanMeier曲線を作成していきます。  "
   ]
  },
  {
   "cell_type": "code",
   "execution_count": 7,
   "metadata": {},
   "outputs": [],
   "source": [
    "df = pd.read_table('clinical_group.tsv')"
   ]
  },
  {
   "cell_type": "code",
   "execution_count": 8,
   "metadata": {},
   "outputs": [
    {
     "data": {
      "text/html": [
       "<div>\n",
       "<style scoped>\n",
       "    .dataframe tbody tr th:only-of-type {\n",
       "        vertical-align: middle;\n",
       "    }\n",
       "\n",
       "    .dataframe tbody tr th {\n",
       "        vertical-align: top;\n",
       "    }\n",
       "\n",
       "    .dataframe thead th {\n",
       "        text-align: right;\n",
       "    }\n",
       "</style>\n",
       "<table border=\"1\" class=\"dataframe\">\n",
       "  <thead>\n",
       "    <tr style=\"text-align: right;\">\n",
       "      <th></th>\n",
       "      <th>T</th>\n",
       "      <th>E</th>\n",
       "      <th>group</th>\n",
       "    </tr>\n",
       "  </thead>\n",
       "  <tbody>\n",
       "    <tr>\n",
       "      <th>0</th>\n",
       "      <td>112</td>\n",
       "      <td>0</td>\n",
       "      <td>stageI-II</td>\n",
       "    </tr>\n",
       "    <tr>\n",
       "      <th>1</th>\n",
       "      <td>27</td>\n",
       "      <td>1</td>\n",
       "      <td>stageI-II</td>\n",
       "    </tr>\n",
       "    <tr>\n",
       "      <th>2</th>\n",
       "      <td>90</td>\n",
       "      <td>0</td>\n",
       "      <td>stageI-II</td>\n",
       "    </tr>\n",
       "    <tr>\n",
       "      <th>3</th>\n",
       "      <td>19</td>\n",
       "      <td>0</td>\n",
       "      <td>stageI-II</td>\n",
       "    </tr>\n",
       "    <tr>\n",
       "      <th>4</th>\n",
       "      <td>120</td>\n",
       "      <td>1</td>\n",
       "      <td>stageI-II</td>\n",
       "    </tr>\n",
       "    <tr>\n",
       "      <th>...</th>\n",
       "      <td>...</td>\n",
       "      <td>...</td>\n",
       "      <td>...</td>\n",
       "    </tr>\n",
       "    <tr>\n",
       "      <th>482</th>\n",
       "      <td>22</td>\n",
       "      <td>1</td>\n",
       "      <td>stageI-II</td>\n",
       "    </tr>\n",
       "    <tr>\n",
       "      <th>483</th>\n",
       "      <td>18</td>\n",
       "      <td>0</td>\n",
       "      <td>stageI-II</td>\n",
       "    </tr>\n",
       "    <tr>\n",
       "      <th>484</th>\n",
       "      <td>34</td>\n",
       "      <td>0</td>\n",
       "      <td>stageI-II</td>\n",
       "    </tr>\n",
       "    <tr>\n",
       "      <th>485</th>\n",
       "      <td>5</td>\n",
       "      <td>1</td>\n",
       "      <td>stageI-II</td>\n",
       "    </tr>\n",
       "    <tr>\n",
       "      <th>486</th>\n",
       "      <td>45</td>\n",
       "      <td>0</td>\n",
       "      <td>stageI-II</td>\n",
       "    </tr>\n",
       "  </tbody>\n",
       "</table>\n",
       "<p>487 rows × 3 columns</p>\n",
       "</div>"
      ],
      "text/plain": [
       "       T  E      group\n",
       "0    112  0  stageI-II\n",
       "1     27  1  stageI-II\n",
       "2     90  0  stageI-II\n",
       "3     19  0  stageI-II\n",
       "4    120  1  stageI-II\n",
       "..   ... ..        ...\n",
       "482   22  1  stageI-II\n",
       "483   18  0  stageI-II\n",
       "484   34  0  stageI-II\n",
       "485    5  1  stageI-II\n",
       "486   45  0  stageI-II\n",
       "\n",
       "[487 rows x 3 columns]"
      ]
     },
     "execution_count": 8,
     "metadata": {},
     "output_type": "execute_result"
    }
   ],
   "source": [
    "df"
   ]
  },
  {
   "cell_type": "code",
   "execution_count": 9,
   "metadata": {},
   "outputs": [],
   "source": [
    "T12 = df.loc[df['group'] == 'stageI-II', 'T']\n",
    "E12 = df.loc[df['group'] == 'stageI-II', 'E']\n",
    "\n",
    "T34 = df.loc[df['group'] == 'stageIII-IV', 'T']\n",
    "E34 = df.loc[df['group'] == 'stageIII-IV', 'E']"
   ]
  },
  {
   "cell_type": "code",
   "execution_count": 10,
   "metadata": {},
   "outputs": [
    {
     "data": {
      "text/plain": [
       "0      0\n",
       "1      1\n",
       "2      0\n",
       "3      0\n",
       "4      1\n",
       "      ..\n",
       "482    1\n",
       "483    0\n",
       "484    0\n",
       "485    1\n",
       "486    0\n",
       "Name: E, Length: 397, dtype: int64"
      ]
     },
     "execution_count": 10,
     "metadata": {},
     "output_type": "execute_result"
    }
   ],
   "source": [
    "E12"
   ]
  },
  {
   "cell_type": "code",
   "execution_count": 11,
   "metadata": {
    "scrolled": true
   },
   "outputs": [
    {
     "data": {
      "image/png": "[encoded data removed]",
      "text/plain": [
       "<Figure size 432x288 with 1 Axes>"
      ]
     },
     "metadata": {
      "needs_background": "light"
     },
     "output_type": "display_data"
    }
   ],
   "source": [
    "from lifelines import KaplanMeierFitter\n",
    "kmf = KaplanMeierFitter()\n",
    "\n",
    "kmf.fit(T12, event_observed=E12, label='stageI-II')\n",
    "ax = kmf.plot()\n",
    "\n",
    "kmf.fit(T34, event_observed=E34, label='stageIII-IV')\n",
    "ax = kmf.plot()"
   ]
  }
 ],
 "metadata": {
  "kernelspec": {
   "display_name": "Python 3",
   "language": "python",
   "name": "python3"
  },
  "language_info": {
   "codemirror_mode": {
    "name": "ipython",
    "version": 3
   },
   "file_extension": ".py",
   "mimetype": "text/x-python",
   "name": "python",
   "nbconvert_exporter": "python",
   "pygments_lexer": "ipython3",
   "version": "3.8.5"
  }
 },
 "nbformat": 4,
 "nbformat_minor": 4
}
